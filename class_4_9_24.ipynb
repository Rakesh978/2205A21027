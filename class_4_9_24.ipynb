{
  "nbformat": 4,
  "nbformat_minor": 0,
  "metadata": {
    "colab": {
      "provenance": [],
      "include_colab_link": true
    },
    "kernelspec": {
      "name": "python3",
      "display_name": "Python 3"
    },
    "language_info": {
      "name": "python"
    }
  },
  "cells": [
    {
      "cell_type": "markdown",
      "metadata": {
        "id": "view-in-github",
        "colab_type": "text"
      },
      "source": [
        "<a href=\"https://colab.research.google.com/github/Rakesh978/2205A21027/blob/main/class_4_9_24.ipynb\" target=\"_parent\"><img src=\"https://colab.research.google.com/assets/colab-badge.svg\" alt=\"Open In Colab\"/></a>"
      ]
    },
    {
      "cell_type": "markdown",
      "source": [
        "# for loop syntax\n",
        "for variable in range(number of u want to exuceted):\n",
        "write the statement u want to exuceted"
      ],
      "metadata": {
        "id": "BgN3RKR6Jn6L"
      }
    },
    {
      "cell_type": "code",
      "execution_count": null,
      "metadata": {
        "colab": {
          "base_uri": "https://localhost:8080/"
        },
        "id": "Nh-U1bgHJfjy",
        "outputId": "f13fbd83-576f-4e70-aeb2-3f4c85d69a10"
      },
      "outputs": [
        {
          "output_type": "stream",
          "name": "stdout",
          "text": [
            "i= 0\n",
            "i= 1\n",
            "i= 2\n",
            "i= 3\n",
            "i= 4\n"
          ]
        }
      ],
      "source": [
        "for i in range(5):\n",
        "  print(\"i=\",i)"
      ]
    },
    {
      "cell_type": "markdown",
      "source": [
        "# print the odd numbers 0-20 by using for loop and while loop"
      ],
      "metadata": {
        "id": "uA_6VilPLOyQ"
      }
    },
    {
      "cell_type": "markdown",
      "source": [
        "for loop"
      ],
      "metadata": {
        "id": "N_Qa6lRxNToZ"
      }
    },
    {
      "cell_type": "code",
      "source": [
        "for a in range(21):\n",
        "  if(a%2 !=0):\n",
        "    print(\"a=\",a)"
      ],
      "metadata": {
        "colab": {
          "base_uri": "https://localhost:8080/"
        },
        "id": "rIM9IAhcLFTJ",
        "outputId": "40d859f8-93ae-469e-ba6c-1e668d519c2d"
      },
      "execution_count": null,
      "outputs": [
        {
          "output_type": "stream",
          "name": "stdout",
          "text": [
            "a= 1\n",
            "a= 3\n",
            "a= 5\n",
            "a= 7\n",
            "a= 9\n",
            "a= 11\n",
            "a= 13\n",
            "a= 15\n",
            "a= 17\n",
            "a= 19\n"
          ]
        }
      ]
    },
    {
      "cell_type": "markdown",
      "source": [
        "while loop"
      ],
      "metadata": {
        "id": "LVzeoIs9NWVw"
      }
    },
    {
      "cell_type": "code",
      "source": [
        "a=0\n",
        "while(a<=20):\n",
        "  if(a%2 !=0):\n",
        "    print(\"a=\",a)\n",
        "  a=a+1"
      ],
      "metadata": {
        "colab": {
          "base_uri": "https://localhost:8080/"
        },
        "id": "6qgk4CX5L-h3",
        "outputId": "fc827e24-fdbe-4145-9312-cc07949e5e05"
      },
      "execution_count": null,
      "outputs": [
        {
          "output_type": "stream",
          "name": "stdout",
          "text": [
            "a= 1\n",
            "a= 3\n",
            "a= 5\n",
            "a= 7\n",
            "a= 9\n",
            "a= 11\n",
            "a= 13\n",
            "a= 15\n",
            "a= 17\n",
            "a= 19\n"
          ]
        }
      ]
    },
    {
      "cell_type": "markdown",
      "source": [
        "for loop"
      ],
      "metadata": {
        "id": "he7Okx6bOKbZ"
      }
    },
    {
      "cell_type": "code",
      "source": [
        "for S in 'Srihari':\n",
        "  print(\"S=\",S)\n",
        "print(\"Rakesh\")"
      ],
      "metadata": {
        "colab": {
          "base_uri": "https://localhost:8080/"
        },
        "id": "FqapFNreMeT9",
        "outputId": "4e4dcfa3-6ff6-419f-9062-7b89475ddc03"
      },
      "execution_count": null,
      "outputs": [
        {
          "output_type": "stream",
          "name": "stdout",
          "text": [
            "S= S\n",
            "S= r\n",
            "S= i\n",
            "S= h\n",
            "S= a\n",
            "S= r\n",
            "S= i\n",
            "Rakesh\n"
          ]
        }
      ]
    },
    {
      "cell_type": "code",
      "source": [
        "names=['hari','raki','raj','mani']\n",
        "for a in names:\n",
        "  print(\"a=\",a)\n",
        "print(\"Rakesh\")"
      ],
      "metadata": {
        "colab": {
          "base_uri": "https://localhost:8080/"
        },
        "id": "X5PKHUMKPFID",
        "outputId": "aa686cc2-1f98-416a-e471-0450fcb31962"
      },
      "execution_count": null,
      "outputs": [
        {
          "output_type": "stream",
          "name": "stdout",
          "text": [
            "a= hari\n",
            "a= raki\n",
            "a= raj\n",
            "a= mani\n",
            "Rakesh\n"
          ]
        }
      ]
    },
    {
      "cell_type": "code",
      "source": [
        "a=['apple','banana','orange']\n",
        "print(\"number of fruits=\",len(a))\n",
        "for fruits in range(len(a)):\n",
        "  print(\"fruit_name=\",a[fruits])\n",
        "print(\"rakesh\")"
      ],
      "metadata": {
        "colab": {
          "base_uri": "https://localhost:8080/"
        },
        "id": "0GFf9VKuRCFD",
        "outputId": "7a26eb36-0b6c-497a-aca1-5fcd641cd46d"
      },
      "execution_count": null,
      "outputs": [
        {
          "output_type": "stream",
          "name": "stdout",
          "text": [
            "number of fruits= 3\n",
            "fruit_name= apple\n",
            "fruit_name= banana\n",
            "fruit_name= orange\n",
            "rakesh\n"
          ]
        }
      ]
    },
    {
      "cell_type": "code",
      "source": [
        "for a in range(11):\n",
        "  if(a%2 ==0):\n",
        "    print(\"even number=\",a)\n",
        "  else:\n",
        "    print(\"odd number=\",a)"
      ],
      "metadata": {
        "colab": {
          "base_uri": "https://localhost:8080/"
        },
        "id": "PTIDDeRTTQe2",
        "outputId": "cf978e5c-cbab-41c9-f40c-101aa52316aa"
      },
      "execution_count": null,
      "outputs": [
        {
          "output_type": "stream",
          "name": "stdout",
          "text": [
            "even number= 0\n",
            "odd number= 1\n",
            "even number= 2\n",
            "odd number= 3\n",
            "even number= 4\n",
            "odd number= 5\n",
            "even number= 6\n",
            "odd number= 7\n",
            "even number= 8\n",
            "odd number= 9\n",
            "even number= 10\n"
          ]
        }
      ]
    },
    {
      "cell_type": "markdown",
      "source": [
        "# nested for loop"
      ],
      "metadata": {
        "id": "qPw9nSWRUGR5"
      }
    },
    {
      "cell_type": "code",
      "source": [
        "for i in range(6):\n",
        "  for j in range(6):\n",
        "    k=i*j\n",
        "    print(k,end= \" \")\n",
        "  print()"
      ],
      "metadata": {
        "colab": {
          "base_uri": "https://localhost:8080/"
        },
        "id": "QpmDUTmqUFvN",
        "outputId": "1ccbb729-da9d-463a-eadc-bdb72870a59e"
      },
      "execution_count": null,
      "outputs": [
        {
          "output_type": "stream",
          "name": "stdout",
          "text": [
            "0 0 0 0 0 0 \n",
            "0 1 2 3 4 5 \n",
            "0 2 4 6 8 10 \n",
            "0 3 6 9 12 15 \n",
            "0 4 8 12 16 20 \n",
            "0 5 10 15 20 25 \n"
          ]
        }
      ]
    },
    {
      "cell_type": "code",
      "source": [
        "a=0\n",
        "while(a<=2):\n",
        "  b=0\n",
        "  while(b<=2):\n",
        "    c=a*b\n",
        "    print(c,end=\" \")\n",
        "    b=b+1\n",
        "  print()\n",
        "  a=a+1\n"
      ],
      "metadata": {
        "colab": {
          "base_uri": "https://localhost:8080/"
        },
        "id": "86CP5Wz8WAQB",
        "outputId": "996c65a3-c8e9-4a55-c6ee-d28182ef2395"
      },
      "execution_count": null,
      "outputs": [
        {
          "output_type": "stream",
          "name": "stdout",
          "text": [
            "0 0 0 \n",
            "0 1 2 \n",
            "0 2 4 \n"
          ]
        }
      ]
    },
    {
      "cell_type": "code",
      "source": [
        "a=0\n",
        "for a in range(6):\n",
        "  while(a<=6):\n",
        "    b=0\n",
        "  while(b<=6):\n",
        "    c=a*b\n",
        "    print(b)\n",
        "    print(c,end=\" \")\n",
        "  print()\n",
        "  a=a+1"
      ],
      "metadata": {
        "id": "YyzNgcmiYElc"
      },
      "execution_count": null,
      "outputs": []
    }
  ]
}