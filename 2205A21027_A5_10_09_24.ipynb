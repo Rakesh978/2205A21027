{
  "nbformat": 4,
  "nbformat_minor": 0,
  "metadata": {
    "colab": {
      "provenance": [],
      "authorship_tag": "ABX9TyMuyRNhEz0nsNaRWRj/2nQ3",
      "include_colab_link": true
    },
    "kernelspec": {
      "name": "python3",
      "display_name": "Python 3"
    },
    "language_info": {
      "name": "python"
    }
  },
  "cells": [
    {
      "cell_type": "markdown",
      "metadata": {
        "id": "view-in-github",
        "colab_type": "text"
      },
      "source": [
        "<a href=\"https://colab.research.google.com/github/Rakesh978/2205A21027/blob/main/2205A21027_A5_10_09_24.ipynb\" target=\"_parent\"><img src=\"https://colab.research.google.com/assets/colab-badge.svg\" alt=\"Open In Colab\"/></a>"
      ]
    },
    {
      "cell_type": "code",
      "execution_count": 1,
      "metadata": {
        "colab": {
          "base_uri": "https://localhost:8080/"
        },
        "id": "7XMTYvBXaNaF",
        "outputId": "af57f222-e7ef-4f11-e522-602aafa13066"
      },
      "outputs": [
        {
          "output_type": "stream",
          "name": "stdout",
          "text": [
            "Current date and time: 2024-09-10 10:33:08.324014\n",
            "enter the pu units:7144\n",
            "enter the cu units:7144\n",
            "enter the customer type: 0;res 1;com 2;adv0\n",
            "------------------------------------------------\n",
            "TGNPDCL\n",
            "Formatted date and time: 2024-09-10 10:33:08\n",
            "------------------------------------------------\n",
            "present units= 7144\n",
            "previous units= 7144\n",
            "units consumed= 0\n",
            "energy charges= 50\n",
            "fixed charges= 20\n",
            "customer charges= 40\n",
            "electricity duty charges= 0.0\n",
            "bill_amount= 110.0\n",
            "------------------------------------------------\n"
          ]
        }
      ],
      "source": [
        "import datetime\n",
        "import tgnpdcl_bill\n",
        "now = datetime.datetime.now()\n",
        "print(\"Current date and time:\", now)\n",
        "formatted_now = now.strftime(\"%Y-%m-%d %H:%M:%S\")\n",
        "\n",
        "pu=int(input(\"enter the pu units:\"))\n",
        "cu=int(input(\"enter the cu units:\"))\n",
        "u=cu-pu\n",
        "customer=int(input(\"enter the customer type: 0;res 1;com 2;adv\"))\n",
        "if(customer==0):\n",
        "  [ec,fc,cc,ed,bill_amount]=tgnpdcl_bill.res(pu,cu)\n",
        "if(customer==1):\n",
        "  [ec,fc,cc,ed,bill_amount]=tgnpdcl_bill.com(pu,cu)\n",
        "if(customer==2):\n",
        "  [ec,fc,cc,ed,bill_amount]=tgnpdcl_bill.adv(pu,cu)\n",
        "print(\"------------------------------------------------\")\n",
        "print(\"TGNPDCL\")\n",
        "print(\"Formatted date and time:\",formatted_now)\n",
        "print(\"------------------------------------------------\")\n",
        "print(\"present units=\",cu)\n",
        "print(\"previous units=\",pu)\n",
        "print(\"units consumed=\",u)\n",
        "print(\"energy charges=\",ec)\n",
        "print(\"fixed charges=\",fc)\n",
        "print(\"customer charges=\",cc)\n",
        "print(\"electricity duty charges=\",ed)\n",
        "print(\"bill_amount=\",bill_amount)\n",
        "print(\"------------------------------------------------\")"
      ]
    }
  ]
}