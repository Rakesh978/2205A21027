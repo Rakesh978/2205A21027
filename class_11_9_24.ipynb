{
  "nbformat": 4,
  "nbformat_minor": 0,
  "metadata": {
    "colab": {
      "provenance": [],
      "include_colab_link": true
    },
    "kernelspec": {
      "name": "python3",
      "display_name": "Python 3"
    },
    "language_info": {
      "name": "python"
    }
  },
  "cells": [
    {
      "cell_type": "markdown",
      "metadata": {
        "id": "view-in-github",
        "colab_type": "text"
      },
      "source": [
        "<a href=\"https://colab.research.google.com/github/Rakesh978/2205A21027/blob/main/class_11_9_24.ipynb\" target=\"_parent\"><img src=\"https://colab.research.google.com/assets/colab-badge.svg\" alt=\"Open In Colab\"/></a>"
      ]
    },
    {
      "cell_type": "markdown",
      "source": [
        "# **Random number Generation**"
      ],
      "metadata": {
        "id": "TvoE20synvgu"
      }
    },
    {
      "cell_type": "code",
      "execution_count": null,
      "metadata": {
        "colab": {
          "base_uri": "https://localhost:8080/"
        },
        "id": "UmgYTdDIm5AO",
        "outputId": "7f0b66e2-c03c-4502-aa19-473086b5edb7"
      },
      "outputs": [
        {
          "output_type": "stream",
          "name": "stdout",
          "text": [
            "0.4989844729202676\n"
          ]
        }
      ],
      "source": [
        "import random\n",
        "a=random.random()\n",
        "print(a)"
      ]
    },
    {
      "cell_type": "code",
      "source": [
        "import random\n",
        "LL=10\n",
        "UL=20\n",
        "a=LL+random.random()*(UL-LL)\n",
        "print(a)"
      ],
      "metadata": {
        "colab": {
          "base_uri": "https://localhost:8080/"
        },
        "id": "0wKuVvfcnmUA",
        "outputId": "0e3373f3-ace6-46a6-8254-d25508e09085"
      },
      "execution_count": null,
      "outputs": [
        {
          "output_type": "stream",
          "name": "stdout",
          "text": [
            "17.93747685713102\n"
          ]
        }
      ]
    },
    {
      "cell_type": "markdown",
      "source": [
        "seed function"
      ],
      "metadata": {
        "id": "NM55zYrroL74"
      }
    },
    {
      "cell_type": "code",
      "source": [
        "import random\n",
        "random.seed(20)\n",
        "print(random.random())\n",
        "random.seed(20)\n",
        "print(random.random())"
      ],
      "metadata": {
        "colab": {
          "base_uri": "https://localhost:8080/"
        },
        "id": "_MBl4n3noIIa",
        "outputId": "e38c0078-7272-47ad-b145-d2025ae09970"
      },
      "execution_count": null,
      "outputs": [
        {
          "output_type": "stream",
          "name": "stdout",
          "text": [
            "0.9056396761745207\n",
            "0.9056396761745207\n"
          ]
        }
      ]
    },
    {
      "cell_type": "markdown",
      "source": [
        "randrange"
      ],
      "metadata": {
        "id": "t07fjPxRopHK"
      }
    },
    {
      "cell_type": "code",
      "source": [
        "import random\n",
        "a=random.randrange(10,20)\n",
        "print(a)"
      ],
      "metadata": {
        "colab": {
          "base_uri": "https://localhost:8080/"
        },
        "id": "HH9EnvOLoh5F",
        "outputId": "6f95abf5-8736-4b2c-eeb4-14e29d9a00a0"
      },
      "execution_count": null,
      "outputs": [
        {
          "output_type": "stream",
          "name": "stdout",
          "text": [
            "12\n"
          ]
        }
      ]
    },
    {
      "cell_type": "markdown",
      "source": [
        "# **String function**"
      ],
      "metadata": {
        "id": "DR5APbA4pDC4"
      }
    },
    {
      "cell_type": "code",
      "source": [
        "str=\"SRU-EEE\"\n",
        "print(str*2)\n",
        "print(str+\"department\")\n",
        "print(str+\" \"+\"department\")\n",
        "print(str[::-1])\n",
        "print(str[6:0:-1])"
      ],
      "metadata": {
        "colab": {
          "base_uri": "https://localhost:8080/"
        },
        "id": "sbSYQK7so9xW",
        "outputId": "c4108d54-9e60-4578-b9a1-9b3a76f4cd2b"
      },
      "execution_count": null,
      "outputs": [
        {
          "output_type": "stream",
          "name": "stdout",
          "text": [
            "SRU-EEESRU-EEE\n",
            "SRU-EEEdepartment\n",
            "SRU-EEE department\n",
            "EEE-URS\n",
            "EEE-UR\n"
          ]
        }
      ]
    },
    {
      "cell_type": "code",
      "source": [
        "str=\"Rakesh sonu\"\n",
        "print(str*2)\n",
        "print(str +\"sweety\")\n",
        "print(str+\" \"+\"deepu\")\n",
        "print(str[::-1])\n",
        "print(str[0])\n",
        "print(str[0:1])\n",
        "print(str[0:2])\n",
        "print(str[0:3])\n",
        "print(str[0:4])\n",
        "print(str[0:5])\n",
        "print(str[0:6])\n",
        "print(str[0:7])\n",
        "print(str[0:8])\n",
        "print(str[0:9])\n",
        "print(str[0:10])\n",
        "print(str[1:10])\n",
        "print(str[1:8])\n",
        "print(str[1:6])\n",
        "print(str[1:4])\n",
        "print(str[1:2])\n",
        "print(str[1:7])\n",
        "print(str[10:1:-1])\n",
        "print(str[7:3:-1])\n",
        "print(str[6:4:-1])\n",
        "print(str[5:5:-1])\n",
        "print(str[3:6:-1])\n",
        "print(str[2:8:-1])\n",
        "print(str[1:9:-1])"
      ],
      "metadata": {
        "colab": {
          "base_uri": "https://localhost:8080/"
        },
        "id": "t0hbG8yxp453",
        "outputId": "116304ed-0f8f-461f-806d-6a5e9fb0d6c4"
      },
      "execution_count": null,
      "outputs": [
        {
          "output_type": "stream",
          "name": "stdout",
          "text": [
            "Rakesh sonuRakesh sonu\n",
            "Rakesh sonusweety\n",
            "Rakesh sonu deepu\n",
            "unos hsekaR\n",
            "R\n",
            "R\n",
            "Ra\n",
            "Rak\n",
            "Rake\n",
            "Rakes\n",
            "Rakesh\n",
            "Rakesh \n",
            "Rakesh s\n",
            "Rakesh so\n",
            "Rakesh son\n",
            "akesh son\n",
            "akesh s\n",
            "akesh\n",
            "ake\n",
            "a\n",
            "akesh \n",
            "unos hsek\n",
            "s hs\n",
            " h\n",
            "\n",
            "\n",
            "\n",
            "\n"
          ]
        }
      ]
    },
    {
      "cell_type": "markdown",
      "source": [
        "# **Complex number**"
      ],
      "metadata": {
        "id": "5u_MwaLatUTA"
      }
    },
    {
      "cell_type": "code",
      "source": [
        "import math as mt\n",
        "import cmath as cm\n",
        "w=10+20j\n",
        "print(w)"
      ],
      "metadata": {
        "colab": {
          "base_uri": "https://localhost:8080/"
        },
        "id": "pfxxd28gtIbY",
        "outputId": "78e1e36d-ec20-4084-8bf9-ed0cc2baf8b4"
      },
      "execution_count": null,
      "outputs": [
        {
          "output_type": "stream",
          "name": "stdout",
          "text": [
            "(10+20j)\n"
          ]
        }
      ]
    },
    {
      "cell_type": "code",
      "source": [
        "print(w.conjugate())"
      ],
      "metadata": {
        "colab": {
          "base_uri": "https://localhost:8080/"
        },
        "id": "qzYCGnJ4hBc1",
        "outputId": "cd41b235-f970-424e-e833-96c073077d34"
      },
      "execution_count": null,
      "outputs": [
        {
          "output_type": "stream",
          "name": "stdout",
          "text": [
            "(10-20j)\n"
          ]
        }
      ]
    },
    {
      "cell_type": "code",
      "source": [
        "import math as mt\n",
        "w=10+20j\n",
        "print(w)\n",
        "print(w.real)\n",
        "print(w.imag)\n",
        "\n"
      ],
      "metadata": {
        "colab": {
          "base_uri": "https://localhost:8080/"
        },
        "id": "V52mbRZQtkmo",
        "outputId": "930f8ebf-696a-4d9b-9a67-f684fb20f695"
      },
      "execution_count": null,
      "outputs": [
        {
          "output_type": "stream",
          "name": "stdout",
          "text": [
            "(10+20j)\n",
            "10.0\n",
            "20.0\n"
          ]
        }
      ]
    },
    {
      "cell_type": "code",
      "source": [
        "import math as mt\n",
        "w=10+20j\n",
        "print(w)\n",
        "print(w.real)\n",
        "print(w.imag)\n",
        "print(abs(w))\n",
        "print(w.conjugate())"
      ],
      "metadata": {
        "colab": {
          "base_uri": "https://localhost:8080/"
        },
        "id": "55eeyx0at1zl",
        "outputId": "866d011f-eb88-4f4c-c554-e80584630544"
      },
      "execution_count": null,
      "outputs": [
        {
          "output_type": "stream",
          "name": "stdout",
          "text": [
            "(10+20j)\n",
            "10.0\n",
            "20.0\n",
            "22.360679774997898\n",
            "(10-20j)\n"
          ]
        }
      ]
    },
    {
      "cell_type": "code",
      "source": [
        "import math as mt\n",
        "import cmath as cm\n",
        "w=10+20j\n",
        "print(w)\n",
        "print(w.real)\n",
        "print(w.imag)\n",
        "print(abs(w))\n",
        "print(w.conjugate())\n",
        "print(mt.degrees(cm.phase(w)))\n",
        "print(mt.radians(cm.phase(w)))\n"
      ],
      "metadata": {
        "colab": {
          "base_uri": "https://localhost:8080/"
        },
        "id": "EFT9mcE-uY6z",
        "outputId": "42d73fb1-9d04-480d-db7c-d96957040737"
      },
      "execution_count": null,
      "outputs": [
        {
          "output_type": "stream",
          "name": "stdout",
          "text": [
            "(10+20j)\n",
            "10.0\n",
            "20.0\n",
            "22.360679774997898\n",
            "(10-20j)\n",
            "63.43494882292201\n",
            "0.01932339043474041\n"
          ]
        }
      ]
    },
    {
      "cell_type": "code",
      "source": [
        "import math as mt\n",
        "import cmath as cm\n",
        "w=10+20j\n",
        "p=cm.polar(w)\n",
        "q=cm.rect(p[0],p[1])\n",
        "print(w)\n",
        "print(w.real)\n",
        "print(w.imag)\n",
        "print(abs(w))\n",
        "print(w.conjugate())\n",
        "print(mt.degrees(cm.phase(w)))\n",
        "print(mt.radians(cm.phase(w)))\n",
        "print(p[0])\n",
        "print(p[1])\n",
        "print(q)\n"
      ],
      "metadata": {
        "colab": {
          "base_uri": "https://localhost:8080/"
        },
        "id": "tZtWIT2YvHfs",
        "outputId": "29be01a5-a718-416b-908b-dc26e7b1103c"
      },
      "execution_count": null,
      "outputs": [
        {
          "output_type": "stream",
          "name": "stdout",
          "text": [
            "(10+20j)\n",
            "10.0\n",
            "20.0\n",
            "22.360679774997898\n",
            "(10-20j)\n",
            "63.43494882292201\n",
            "0.01932339043474041\n",
            "22.360679774997898\n",
            "1.1071487177940904\n",
            "(10.000000000000004+20j)\n"
          ]
        }
      ]
    },
    {
      "cell_type": "code",
      "source": [],
      "metadata": {
        "id": "1NejgYkHxsSt"
      },
      "execution_count": null,
      "outputs": []
    }
  ]
}