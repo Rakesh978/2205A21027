{
  "nbformat": 4,
  "nbformat_minor": 0,
  "metadata": {
    "colab": {
      "provenance": [],
      "authorship_tag": "ABX9TyN53cQDAnfKmVtVU1A6A4xo",
      "include_colab_link": true
    },
    "kernelspec": {
      "name": "python3",
      "display_name": "Python 3"
    },
    "language_info": {
      "name": "python"
    }
  },
  "cells": [
    {
      "cell_type": "markdown",
      "metadata": {
        "id": "view-in-github",
        "colab_type": "text"
      },
      "source": [
        "<a href=\"https://colab.research.google.com/github/Rakesh978/2205A21027/blob/main/2205A21027_A4.ipynb\" target=\"_parent\"><img src=\"https://colab.research.google.com/assets/colab-badge.svg\" alt=\"Open In Colab\"/></a>"
      ]
    },
    {
      "cell_type": "code",
      "execution_count": 13,
      "metadata": {
        "colab": {
          "base_uri": "https://localhost:8080/"
        },
        "id": "mz9XUnJaobs8",
        "outputId": "334870e4-0ae1-4eb4-f8a2-55892fea2d52"
      },
      "outputs": [
        {
          "output_type": "stream",
          "name": "stdout",
          "text": [
            "Current date and time: 2024-09-03 10:57:02.646399\n",
            "enter the previous_units:7144\n",
            "enter the current_units:7183\n",
            "enter the customer Residential=0 commercial=1 advertisment=20\n",
            "bill_amount= 126.44\n",
            "-------------------------------------\n",
            "TGNPDCL\n",
            "Formatted date and time: 2024-09-03 10:57:02\n",
            "-----------------------------------------\n",
            "previous units\n",
            "present units\n",
            "energy consumu= 39.0\n",
            "energy charges= 74.1\n",
            "fixed charges= 10\n",
            "customer charges= 40\n",
            "electricity duty= 2.34\n",
            "----------------------------------------------\n"
          ]
        }
      ],
      "source": [
        "import datetime\n",
        "now = datetime.datetime.now()\n",
        "print(\"Current date and time:\", now)\n",
        "formatted_now = now.strftime(\"%Y-%m-%d %H:%M:%S\")\n",
        "pu=float(input(\"enter the previous_units:\"))\n",
        "cu=float(input(\"enter the current_units:\"))\n",
        "customer=int(input(\"enter the customer Residential=0 commercial=1 advertisment=2\"))\n",
        "units=cu-pu\n",
        "ed=0.06*units\n",
        "if(customer==0):\n",
        "  if(units<=100):\n",
        "    if(units>0 and units<=50):\n",
        "      ec=1.90*units\n",
        "      fc=10\n",
        "      cc=40\n",
        "      bill_amount=ec+fc+cc+ed\n",
        "      print(\"bill_amount=\",bill_amount)\n",
        "    if(units>50 and units<=100):\n",
        "      ec=3.1*units\n",
        "      fc=10\n",
        "      cc=70\n",
        "      bill_amount=ec+fc+cc+ed\n",
        "      print(\"bill_amount=\",bill_amount)\n",
        "  if(units>100 and units<=200):\n",
        "    if(units>0 and units<=100):\n",
        "      ec=3.4*units\n",
        "      fc=10\n",
        "      cc=60\n",
        "      bill_amount=ec+fc+cc+ed\n",
        "      print(\"bill_amount=\",bill_amount)\n",
        "    if(units>101 and units<=200):\n",
        "      ec=4.6*units\n",
        "      fc=10\n",
        "      cc=50\n",
        "      bill_amount=ec+fc+cc+ed\n",
        "      print(\"bill_amount=\",bill_amount)\n",
        "if(customer==1):\n",
        "  if(units<=50):\n",
        "    if(units>0 and units<=50):\n",
        "      ec=7*units\n",
        "      fc=60\n",
        "      cc=50\n",
        "      bill_amount=ec+fc+cc+ed\n",
        "      print(\"bill_amount=\",bill_amount)\n",
        "if(customer==2):\n",
        "      ec=13*units\n",
        "      fc=10\n",
        "      cc=100\n",
        "      bill_amount=ec+fc+cc+ed\n",
        "      print(\"bill_amount=\",bill_amount)\n",
        "print(\"-------------------------------------\")\n",
        "print(\"TGNPDCL\")\n",
        "print(\"Formatted date and time:\", formatted_now)\n",
        "print(\"-----------------------------------------\")\n",
        "print(\"previous units\")\n",
        "print(\"present units\")\n",
        "print(\"energy consumu=\",units)\n",
        "print(\"energy charges=\",ec)\n",
        "print(\"fixed charges=\",fc)\n",
        "print(\"customer charges=\",cc)\n",
        "print(\"electricity duty=\",ed)\n",
        "print(\"----------------------------------------------\")"
      ]
    },
    {
      "cell_type": "code",
      "source": [],
      "metadata": {
        "id": "1DeRgAynz1tV"
      },
      "execution_count": null,
      "outputs": []
    }
  ]
}