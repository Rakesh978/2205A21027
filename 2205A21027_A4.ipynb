{
  "nbformat": 4,
  "nbformat_minor": 0,
  "metadata": {
    "colab": {
      "provenance": [],
      "authorship_tag": "ABX9TyPRocz+k3WA+SM9VpsWXsje",
      "include_colab_link": true
    },
    "kernelspec": {
      "name": "python3",
      "display_name": "Python 3"
    },
    "language_info": {
      "name": "python"
    }
  },
  "cells": [
    {
      "cell_type": "markdown",
      "metadata": {
        "id": "view-in-github",
        "colab_type": "text"
      },
      "source": [
        "<a href=\"https://colab.research.google.com/github/Rakesh978/2205A21027/blob/main/2205A21027_A4.ipynb\" target=\"_parent\"><img src=\"https://colab.research.google.com/assets/colab-badge.svg\" alt=\"Open In Colab\"/></a>"
      ]
    },
    {
      "cell_type": "code",
      "execution_count": 29,
      "metadata": {
        "colab": {
          "base_uri": "https://localhost:8080/"
        },
        "id": "mz9XUnJaobs8",
        "outputId": "a50e086e-8518-4838-8952-77e7ecab943a"
      },
      "outputs": [
        {
          "output_type": "stream",
          "name": "stdout",
          "text": [
            "Current date and time: 2024-09-02 17:40:57.541529\n",
            "Formatted date and time: 2024-09-02 17:40:57\n",
            "enter the previous_units:230\n",
            "enter the current_units:300\n",
            "enter the customer Residential=0 commercial=1 advertisment=21\n",
            "bill_amount= 280.0\n"
          ]
        }
      ],
      "source": [
        "import datetime\n",
        "now = datetime.datetime.now()\n",
        "print(\"Current date and time:\", now)\n",
        "formatted_now = now.strftime(\"%Y-%m-%d %H:%M:%S\")\n",
        "print(\"Formatted date and time:\", formatted_now)\n",
        "pu=float(input(\"enter the previous_units:\"))\n",
        "cu=float(input(\"enter the current_units:\"))\n",
        "customer=int(input(\"enter the customer Residential=0 commercial=1 advertisment=2\"))\n",
        "units=cu-pu\n",
        "if(customer==0):\n",
        "  if(units<=100):\n",
        "    if(units>0 and units<=50):\n",
        "      ec=1*units\n",
        "      fc=10\n",
        "      cc=40\n",
        "      bill_amount=ec+fc+cc\n",
        "      print(\"bill_amount=\",bill_amount)\n",
        "    if(units>50 and units<=100):\n",
        "      ec=3*units\n",
        "      fc=10\n",
        "      cc=70\n",
        "      bill_amount=ec+fc+cc\n",
        "      print(\"bill_amount=\",bill_amount)\n",
        "if(customer==1):\n",
        "  if(units<=200):\n",
        "    if(units>0 and units<=100):\n",
        "      ec=3*units\n",
        "      fc=10\n",
        "      cc=60\n",
        "      bill_amount=ec+fc+cc\n",
        "      print(\"bill_amount=\",bill_amount)\n",
        "    if(units>100 and units<=200):\n",
        "      ec=4*units\n",
        "      fc=10\n",
        "      cc=50\n",
        "      bill_amount=ec+fc+cc\n",
        "      print(\"bill_amount=\",bill_amount)\n",
        "if(customer==2):\n",
        "  if(units>=200):\n",
        "     if(units>0 and units<=200):\n",
        "      ec=5*units\n",
        "      fc=10\n",
        "      cc=100\n",
        "      bill_amount=ec+fc+cc\n",
        "      print(\"bill_amount=\",bill_amount)\n",
        "     if(units>200 and units<=300):\n",
        "       ec=7*units\n",
        "       fc=10\n",
        "       cc=100\n",
        "       bill_amount=ec+fc+cc\n",
        "       print(\"bill_amount=\",bill_amount)\n",
        "     if(units>300 and units<=400):\n",
        "       ec=9*units\n",
        "       fc=10\n",
        "       cc=120\n",
        "       bill_amount=ec+fc+cc\n",
        "       print(\"bill_amount=\",bill_amount)\n",
        "     if(units>400 and units<=500):\n",
        "       ec=9*units\n",
        "       fc=10\n",
        "       cc=140\n",
        "       bill_amount=ec+fc+cc\n",
        "       print(\"bill_amount=\",bill_amount)\n",
        "     if(units>500 and units<=300):\n",
        "       ec=10*units\n",
        "       fc=10\n",
        "       cc=160\n",
        "       bill_amount=ec+fc+cc\n",
        "       print(\"bill_amount=\",bill_amount)"
      ]
    },
    {
      "cell_type": "code",
      "source": [],
      "metadata": {
        "id": "1DeRgAynz1tV"
      },
      "execution_count": null,
      "outputs": []
    }
  ]
}