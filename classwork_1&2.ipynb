{
  "nbformat": 4,
  "nbformat_minor": 0,
  "metadata": {
    "colab": {
      "provenance": [],
      "include_colab_link": true
    },
    "kernelspec": {
      "name": "python3",
      "display_name": "Python 3"
    },
    "language_info": {
      "name": "python"
    }
  },
  "cells": [
    {
      "cell_type": "markdown",
      "metadata": {
        "id": "view-in-github",
        "colab_type": "text"
      },
      "source": [
        "<a href=\"https://colab.research.google.com/github/Rakesh978/2205A21027/blob/main/classwork_1%262.ipynb\" target=\"_parent\"><img src=\"https://colab.research.google.com/assets/colab-badge.svg\" alt=\"Open In Colab\"/></a>"
      ]
    },
    {
      "cell_type": "markdown",
      "source": [
        "# **Hello world**"
      ],
      "metadata": {
        "id": "Wd5sAq6jy8ao"
      }
    },
    {
      "cell_type": "code",
      "source": [
        "print(\"hello world\")"
      ],
      "metadata": {
        "colab": {
          "base_uri": "https://localhost:8080/"
        },
        "id": "51TwaFhwyuEP",
        "outputId": "0138d7ad-7ac8-490b-8fd1-2f28d0c7079d"
      },
      "execution_count": null,
      "outputs": [
        {
          "output_type": "stream",
          "name": "stdout",
          "text": [
            "hello world\n"
          ]
        }
      ]
    },
    {
      "cell_type": "markdown",
      "source": [
        "# **Arthametic operations**"
      ],
      "metadata": {
        "id": "fJDV_UOAzBou"
      }
    },
    {
      "cell_type": "markdown",
      "source": [
        "# **Add**"
      ],
      "metadata": {
        "id": "EgsgheqBzmFN"
      }
    },
    {
      "cell_type": "code",
      "source": [
        "print(\"25+50=\",25+50)"
      ],
      "metadata": {
        "colab": {
          "base_uri": "https://localhost:8080/"
        },
        "id": "CWwAcyBuy5sl",
        "outputId": "b4cafb9b-2aca-4760-e826-472c0a835fec"
      },
      "execution_count": null,
      "outputs": [
        {
          "output_type": "stream",
          "name": "stdout",
          "text": [
            "25+50= 75\n"
          ]
        }
      ]
    },
    {
      "cell_type": "code",
      "source": [
        "print(\"90-400=\",90-400)"
      ],
      "metadata": {
        "colab": {
          "base_uri": "https://localhost:8080/"
        },
        "id": "7t2QjP5hz40C",
        "outputId": "e054d223-1435-42bc-fcb2-ff1af2c5b3fa"
      },
      "execution_count": null,
      "outputs": [
        {
          "output_type": "stream",
          "name": "stdout",
          "text": [
            "90-400= -310\n"
          ]
        }
      ]
    },
    {
      "cell_type": "code",
      "source": [
        "print(\"25*25=\",25*25)"
      ],
      "metadata": {
        "colab": {
          "base_uri": "https://localhost:8080/"
        },
        "id": "meRIJs6m0Cuo",
        "outputId": "43afd37b-12e0-46a8-aba9-31bc6195b813"
      },
      "execution_count": null,
      "outputs": [
        {
          "output_type": "stream",
          "name": "stdout",
          "text": [
            "25*25= 625\n"
          ]
        }
      ]
    },
    {
      "cell_type": "code",
      "source": [
        "print(\"625/25=\",625/25)"
      ],
      "metadata": {
        "colab": {
          "base_uri": "https://localhost:8080/"
        },
        "id": "mux_w0bi0Nbt",
        "outputId": "7a6eb91a-4c6f-4fbe-b21f-51aaa91a84a1"
      },
      "execution_count": null,
      "outputs": [
        {
          "output_type": "stream",
          "name": "stdout",
          "text": [
            "625/25= 25.0\n"
          ]
        }
      ]
    },
    {
      "cell_type": "code",
      "source": [
        "print(\"500%2=\",500%2)"
      ],
      "metadata": {
        "colab": {
          "base_uri": "https://localhost:8080/"
        },
        "id": "WsEET4FF0ZiA",
        "outputId": "1c787192-29b5-440e-9491-21d484219787"
      },
      "execution_count": null,
      "outputs": [
        {
          "output_type": "stream",
          "name": "stdout",
          "text": [
            "500%2= 0\n"
          ]
        }
      ]
    },
    {
      "cell_type": "code",
      "source": [
        "print(\"225+25=\",225+25)\n",
        "print(\"225-25=\",225+25)\n",
        "print(\"225*25=\",225+25)\n",
        "print(\"225/25=\",225+25)\n",
        "print(\"225%25=\",225+25)\n"
      ],
      "metadata": {
        "colab": {
          "base_uri": "https://localhost:8080/"
        },
        "id": "BydX2zM60lUE",
        "outputId": "47f2b1bc-3272-4558-8741-77ff316a2166"
      },
      "execution_count": null,
      "outputs": [
        {
          "output_type": "stream",
          "name": "stdout",
          "text": [
            "225+25= 250\n",
            "225-25= 250\n",
            "225*25= 250\n",
            "225/25= 250\n",
            "225%25= 250\n"
          ]
        }
      ]
    },
    {
      "cell_type": "code",
      "source": [
        "a=15\n",
        "print(a)\n",
        "print(type(a))"
      ],
      "metadata": {
        "colab": {
          "base_uri": "https://localhost:8080/"
        },
        "id": "CeTUZLiP0_u-",
        "outputId": "6b04be37-3bc5-43a8-ce77-a714cf932bb0"
      },
      "execution_count": null,
      "outputs": [
        {
          "output_type": "stream",
          "name": "stdout",
          "text": [
            "15\n",
            "<class 'int'>\n"
          ]
        }
      ]
    },
    {
      "cell_type": "code",
      "source": [
        "a=25\n",
        "b=\"Rakesh\"\n",
        "print(a)\n",
        "print(b)\n",
        "print(type(a))\n",
        "print(type(b))\n",
        "\n"
      ],
      "metadata": {
        "colab": {
          "base_uri": "https://localhost:8080/"
        },
        "id": "xVjl37-q1Mb2",
        "outputId": "dde1dbc2-a019-492b-bdb1-2c98702d3525"
      },
      "execution_count": null,
      "outputs": [
        {
          "output_type": "stream",
          "name": "stdout",
          "text": [
            "25\n",
            "Rakesh\n",
            "<class 'int'>\n",
            "<class 'str'>\n"
          ]
        }
      ]
    },
    {
      "cell_type": "code",
      "source": [
        "x=20\n",
        "y=50.5\n",
        "z=\"Rakesh\"\n",
        "print(\"type(x)\",type(x))\n",
        "print(\"type(y)\",type(y))\n",
        "print(\"type(z)\",type(z))\n",
        "x=\"pavan\"\n",
        "print(\"type(x)\",type(x))"
      ],
      "metadata": {
        "colab": {
          "base_uri": "https://localhost:8080/"
        },
        "id": "ZjGu0_Sn7Cb8",
        "outputId": "e85d9952-ba7c-49c0-aa1a-1217cde17953"
      },
      "execution_count": null,
      "outputs": [
        {
          "output_type": "stream",
          "name": "stdout",
          "text": [
            "type(x) <class 'int'>\n",
            "type(y) <class 'float'>\n",
            "type(z) <class 'str'>\n",
            "type(x) <class 'str'>\n"
          ]
        }
      ]
    },
    {
      "cell_type": "code",
      "source": [
        "cost_item=20\n",
        "no_item=input(\"Enter no.of items Required\")\n",
        "total_bill=cost_item*int(no_item)\n",
        "print(\"cost per item=Rs.\",cost_item)\n",
        "print(\"no.of items ordered=\",no_item)\n",
        "print(\"total bill amount=Rs.\",total_bill)"
      ],
      "metadata": {
        "colab": {
          "base_uri": "https://localhost:8080/"
        },
        "id": "eoiZ0BUp7ivP",
        "outputId": "ad1c7482-1753-4dab-e297-1d5fcdeaa72f"
      },
      "execution_count": null,
      "outputs": [
        {
          "output_type": "stream",
          "name": "stdout",
          "text": [
            "Enter no.of items Required5\n",
            "cost per item=Rs. 20\n",
            "no.of items ordered= 5\n",
            "total bill amount=Rs. 100\n"
          ]
        }
      ]
    },
    {
      "cell_type": "markdown",
      "source": [
        "# **variables**"
      ],
      "metadata": {
        "id": "_L388Yzowk6q"
      }
    },
    {
      "cell_type": "code",
      "execution_count": null,
      "metadata": {
        "id": "QQqoNgD2Qg5Z",
        "colab": {
          "base_uri": "https://localhost:8080/"
        },
        "outputId": "f1b70da0-a141-467b-e9b0-cda01247609e"
      },
      "outputs": [
        {
          "output_type": "stream",
          "name": "stdout",
          "text": [
            "5\n",
            "Rakesh\n",
            "50.2\n"
          ]
        }
      ],
      "source": [
        "x=5\n",
        "y=\"Rakesh\"\n",
        "z=50.2\n",
        "print(x)\n",
        "print(y)\n",
        "print(z)\n"
      ]
    },
    {
      "cell_type": "code",
      "source": [
        "print(type(x))\n",
        "print(type(y))\n",
        "print(type(z))"
      ],
      "metadata": {
        "colab": {
          "base_uri": "https://localhost:8080/"
        },
        "id": "dfzwMfOoxPAF",
        "outputId": "dd17798d-8643-46bc-d031-84235408580b"
      },
      "execution_count": null,
      "outputs": [
        {
          "output_type": "stream",
          "name": "stdout",
          "text": [
            "<class 'int'>\n",
            "<class 'str'>\n",
            "<class 'float'>\n"
          ]
        }
      ]
    },
    {
      "cell_type": "code",
      "source": [
        "y1=\"Rakesh\"\n",
        "y2='Rakesh'\n",
        "print(y1)\n",
        "print(y2)\n",
        "print(type(y1))\n",
        "print(type(y2))"
      ],
      "metadata": {
        "colab": {
          "base_uri": "https://localhost:8080/"
        },
        "id": "JR3hAPNmxeFF",
        "outputId": "0471a00f-caa2-4f9e-cdd8-736ad19330dd"
      },
      "execution_count": null,
      "outputs": [
        {
          "output_type": "stream",
          "name": "stdout",
          "text": [
            "Rakesh\n",
            "Rakesh\n",
            "<class 'str'>\n",
            "<class 'str'>\n"
          ]
        }
      ]
    },
    {
      "cell_type": "markdown",
      "source": [
        "# **casting**"
      ],
      "metadata": {
        "id": "15X6tu4dx_Qk"
      }
    },
    {
      "cell_type": "code",
      "source": [
        "y1=50\n",
        "print(y1)\n",
        "y2=float(y1)\n",
        "print(y2)\n",
        "print(type(y2))\n",
        "y3=str(y1)\n",
        "print(y3)\n",
        "print(type(y3))"
      ],
      "metadata": {
        "colab": {
          "base_uri": "https://localhost:8080/"
        },
        "id": "ngiY_j-lxwxA",
        "outputId": "31378248-5cff-40dc-cf16-9abc24722a9a"
      },
      "execution_count": null,
      "outputs": [
        {
          "output_type": "stream",
          "name": "stdout",
          "text": [
            "50\n",
            "50.0\n",
            "<class 'float'>\n",
            "50\n",
            "<class 'str'>\n"
          ]
        }
      ]
    },
    {
      "cell_type": "code",
      "source": [
        "y1=int(10)\n",
        "y2=float(10)\n",
        "y1=str(10)\n",
        "print(y1)\n",
        "print(y2)\n",
        "print(y3)\n",
        "print(type(y1))\n",
        "print(type(y2))\n",
        "print(type(y3))"
      ],
      "metadata": {
        "colab": {
          "base_uri": "https://localhost:8080/"
        },
        "id": "VXoiy_Zpykg-",
        "outputId": "4de735cd-83b6-4ffb-b5b4-3158aeeb0bcb"
      },
      "execution_count": null,
      "outputs": [
        {
          "output_type": "stream",
          "name": "stdout",
          "text": [
            "10\n",
            "10.0\n",
            "50\n",
            "<class 'str'>\n",
            "<class 'float'>\n",
            "<class 'str'>\n"
          ]
        }
      ]
    },
    {
      "cell_type": "code",
      "source": [
        "c=50\n",
        "d=float(c)\n",
        "print(type(d))"
      ],
      "metadata": {
        "colab": {
          "base_uri": "https://localhost:8080/"
        },
        "id": "9rlps-wV2i0D",
        "outputId": "b161306b-0589-4d9c-a2d3-18f501f75dde"
      },
      "execution_count": null,
      "outputs": [
        {
          "output_type": "stream",
          "name": "stdout",
          "text": [
            "<class 'float'>\n"
          ]
        }
      ]
    },
    {
      "cell_type": "markdown",
      "source": [
        "# **variable name**"
      ],
      "metadata": {
        "id": "cCKLj7Tj3yNl"
      }
    },
    {
      "cell_type": "code",
      "source": [
        "my_name=\"Rakesh\"\n",
        "_Age=21\n",
        "_collage_name=\"SR University\"\n",
        "Hall_ticket=27\n",
        "Branch=\"EEE\"\n",
        "print(\"my_name=\",my_name)\n",
        "print(\"_Age=\",_Age)\n",
        "print(\"_collage_name=\",_collage_name)\n",
        "print(\"Hall_ticket=\",Hall_ticket)\n",
        "print(\"Branch=\",Branch)"
      ],
      "metadata": {
        "colab": {
          "base_uri": "https://localhost:8080/"
        },
        "id": "qK9en-5w6TZe",
        "outputId": "fe6cb682-8730-4c17-a0c9-d38d20a1295f"
      },
      "execution_count": null,
      "outputs": [
        {
          "output_type": "stream",
          "name": "stdout",
          "text": [
            "my_name= Rakesh\n",
            "_Age= 21\n",
            "_collage_name= SR University\n",
            "Hall_ticket= 27\n",
            "Branch= EEE\n"
          ]
        }
      ]
    },
    {
      "cell_type": "code",
      "source": [
        "x,y,z='sonu','sahasra','Rakesh'\n",
        "print(x)\n",
        "print(y)\n",
        "print(z)\n",
        "print(x +y +z)"
      ],
      "metadata": {
        "colab": {
          "base_uri": "https://localhost:8080/"
        },
        "id": "VGZkTvLU-Gaw",
        "outputId": "b2fefa5e-0f4a-4833-8ce1-4d5f994fcc76"
      },
      "execution_count": null,
      "outputs": [
        {
          "output_type": "stream",
          "name": "stdout",
          "text": [
            "sonu\n",
            "sahasra\n",
            "Rakesh\n",
            "sonusahasraRakesh\n"
          ]
        }
      ]
    }
  ]
}