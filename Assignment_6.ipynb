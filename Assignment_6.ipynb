{
  "nbformat": 4,
  "nbformat_minor": 0,
  "metadata": {
    "colab": {
      "provenance": [],
      "authorship_tag": "ABX9TyMhaUQm9Omu1RVvFRbmCGAZ",
      "include_colab_link": true
    },
    "kernelspec": {
      "name": "python3",
      "display_name": "Python 3"
    },
    "language_info": {
      "name": "python"
    }
  },
  "cells": [
    {
      "cell_type": "markdown",
      "metadata": {
        "id": "view-in-github",
        "colab_type": "text"
      },
      "source": [
        "<a href=\"https://colab.research.google.com/github/Rakesh978/2205A21027/blob/main/Assignment_6.ipynb\" target=\"_parent\"><img src=\"https://colab.research.google.com/assets/colab-badge.svg\" alt=\"Open In Colab\"/></a>"
      ]
    },
    {
      "cell_type": "markdown",
      "source": [
        "# **pattern 1**"
      ],
      "metadata": {
        "id": "4iFuQLepaSwD"
      }
    },
    {
      "cell_type": "code",
      "source": [
        "for row in range(6):\n",
        "  for col in range(6):\n",
        "    if(row<=col):\n",
        "      print(\"+\",end=\"\")\n",
        "  print()"
      ],
      "metadata": {
        "colab": {
          "base_uri": "https://localhost:8080/"
        },
        "id": "pcCWCRYeaJjz",
        "outputId": "7b0d2786-8db4-4fea-c54b-3f36eef75ccd"
      },
      "execution_count": null,
      "outputs": [
        {
          "output_type": "stream",
          "name": "stdout",
          "text": [
            "++++++\n",
            "+++++\n",
            "++++\n",
            "+++\n",
            "++\n",
            "+\n"
          ]
        }
      ]
    },
    {
      "cell_type": "markdown",
      "source": [
        "# **pattern 2**"
      ],
      "metadata": {
        "id": "KSDnFVB7ao-X"
      }
    },
    {
      "cell_type": "code",
      "execution_count": null,
      "metadata": {
        "colab": {
          "base_uri": "https://localhost:8080/"
        },
        "id": "mbHck9ieZifi",
        "outputId": "cc16c2bf-4bca-41c5-c528-ef3733a612d0"
      },
      "outputs": [
        {
          "output_type": "stream",
          "name": "stdout",
          "text": [
            "*\n",
            "**\n",
            "***\n",
            "****\n",
            "*****\n",
            "******\n"
          ]
        }
      ],
      "source": [
        "for row in range(6):\n",
        "  for col in range(6):\n",
        "    if(col<=row):\n",
        "      print(\"*\",end=\"\")\n",
        "  print()"
      ]
    },
    {
      "cell_type": "markdown",
      "source": [
        "# **pattern 3**"
      ],
      "metadata": {
        "id": "D7K2KE1Yavbx"
      }
    },
    {
      "cell_type": "code",
      "source": [
        "for row in range(5):\n",
        "    for col in range(5):\n",
        "        if (col < 5 - row - 1):\n",
        "            print(\" \", end=\"\")\n",
        "        else:\n",
        "            print(\"*\", end=\"\")\n",
        "    print()"
      ],
      "metadata": {
        "colab": {
          "base_uri": "https://localhost:8080/"
        },
        "id": "HQZATLira38h",
        "outputId": "9e1a2acb-bee2-4cae-c4da-c2162f857f77"
      },
      "execution_count": null,
      "outputs": [
        {
          "output_type": "stream",
          "name": "stdout",
          "text": [
            "    *\n",
            "   **\n",
            "  ***\n",
            " ****\n",
            "*****\n"
          ]
        }
      ]
    },
    {
      "cell_type": "markdown",
      "source": [
        "# **pattern 4**"
      ],
      "metadata": {
        "id": "0klsZM47azn2"
      }
    },
    {
      "cell_type": "code",
      "source": [
        "for row in range(6):\n",
        "    for col in range(6):\n",
        "        if (col < row):\n",
        "            print(\" \", end=\"\")\n",
        "        else:\n",
        "            print(\"+\", end=\"\")\n",
        "    print()\n"
      ],
      "metadata": {
        "colab": {
          "base_uri": "https://localhost:8080/"
        },
        "id": "yeV4E_DvfQhz",
        "outputId": "655d1d5e-8760-4f49-a7a9-8dd8ec36b1f0"
      },
      "execution_count": null,
      "outputs": [
        {
          "output_type": "stream",
          "name": "stdout",
          "text": [
            "++++++\n",
            " +++++\n",
            "  ++++\n",
            "   +++\n",
            "    ++\n",
            "     +\n"
          ]
        }
      ]
    },
    {
      "cell_type": "markdown",
      "source": [
        "# **partten 5**"
      ],
      "metadata": {
        "id": "U0Dg8FcSkRBH"
      }
    },
    {
      "cell_type": "code",
      "source": [
        "row=0\n",
        "while (row in range(6)):\n",
        "  col=0\n",
        "  while (col in range(6)):\n",
        "    if(row<=col):\n",
        "      print(\"+\",end=\"\")\n",
        "    col+=1\n",
        "  print()\n",
        "  row+=1"
      ],
      "metadata": {
        "colab": {
          "base_uri": "https://localhost:8080/"
        },
        "id": "FG_jXCkDjTjW",
        "outputId": "81322dcc-2d6a-440f-df04-4b374a40c5dd"
      },
      "execution_count": null,
      "outputs": [
        {
          "output_type": "stream",
          "name": "stdout",
          "text": [
            "++++++\n",
            "+++++\n",
            "++++\n",
            "+++\n",
            "++\n",
            "+\n"
          ]
        }
      ]
    },
    {
      "cell_type": "markdown",
      "source": [
        "# **pattern 6**"
      ],
      "metadata": {
        "id": "PyCDjAA4k7cw"
      }
    },
    {
      "cell_type": "code",
      "source": [
        "row=0\n",
        "while (row in range(6)):\n",
        "  col=0\n",
        "  while (col in range(6)):\n",
        "    if(col<=row):\n",
        "      print(\"*\",end=\"\")\n",
        "    col+=1\n",
        "  print()\n",
        "  row+=1"
      ],
      "metadata": {
        "colab": {
          "base_uri": "https://localhost:8080/"
        },
        "id": "TFaB3qfAkZvq",
        "outputId": "4f609020-dcfa-4c1f-ea4d-da089fda5d55"
      },
      "execution_count": null,
      "outputs": [
        {
          "output_type": "stream",
          "name": "stdout",
          "text": [
            "*\n",
            "**\n",
            "***\n",
            "****\n",
            "*****\n",
            "******\n"
          ]
        }
      ]
    },
    {
      "cell_type": "markdown",
      "source": [
        "## **pattern 7**"
      ],
      "metadata": {
        "id": "zr5izDkGfo2c"
      }
    },
    {
      "cell_type": "code",
      "source": [
        "row=0\n",
        "while (row in range(5)):\n",
        "  col=0\n",
        "  while (col in range(5)):\n",
        "        if (col < 5 - row - 1):\n",
        "            print(\" \", end=\"\")\n",
        "            col+=1\n",
        "        else:\n",
        "            print(\"*\", end=\"\")\n",
        "            col+=1\n",
        "  print()\n",
        "  row+=1"
      ],
      "metadata": {
        "colab": {
          "base_uri": "https://localhost:8080/"
        },
        "id": "NwX_DruRliQT",
        "outputId": "fd703134-4d6d-43ca-84a1-6cb8c1cb566f"
      },
      "execution_count": null,
      "outputs": [
        {
          "output_type": "stream",
          "name": "stdout",
          "text": [
            "    *\n",
            "   **\n",
            "  ***\n",
            " ****\n",
            "*****\n"
          ]
        }
      ]
    },
    {
      "cell_type": "markdown",
      "source": [
        "# **pattern 8**"
      ],
      "metadata": {
        "id": "4LS_Cy_mmD-c"
      }
    },
    {
      "cell_type": "code",
      "source": [
        "row=0\n",
        "while (row in range(6)):\n",
        "  col=0\n",
        "  while(col in range(6)):\n",
        "        if (col < row):\n",
        "            print(\" \", end=\"\")\n",
        "            col+=1\n",
        "        else:\n",
        "            print(\"+\", end=\"\")\n",
        "            col+=1\n",
        "  print()\n",
        "  row+=1"
      ],
      "metadata": {
        "colab": {
          "base_uri": "https://localhost:8080/"
        },
        "id": "QPg2WV7omG1e",
        "outputId": "5ba041ce-5b4b-4b25-b2d3-12c05d90690e"
      },
      "execution_count": null,
      "outputs": [
        {
          "output_type": "stream",
          "name": "stdout",
          "text": [
            "++++++\n",
            " +++++\n",
            "  ++++\n",
            "   +++\n",
            "    ++\n",
            "     +\n"
          ]
        }
      ]
    }
  ]
}