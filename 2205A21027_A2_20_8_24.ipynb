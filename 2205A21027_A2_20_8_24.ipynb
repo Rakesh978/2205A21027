{
  "nbformat": 4,
  "nbformat_minor": 0,
  "metadata": {
    "colab": {
      "provenance": [],
      "authorship_tag": "ABX9TyPxkpqOUsGkjFkCTo8OWaZT",
      "include_colab_link": true
    },
    "kernelspec": {
      "name": "python3",
      "display_name": "Python 3"
    },
    "language_info": {
      "name": "python"
    }
  },
  "cells": [
    {
      "cell_type": "markdown",
      "metadata": {
        "id": "view-in-github",
        "colab_type": "text"
      },
      "source": [
        "<a href=\"https://colab.research.google.com/github/Rakesh978/2205A21027/blob/main/2205A21027_A2_20_8_24.ipynb\" target=\"_parent\"><img src=\"https://colab.research.google.com/assets/colab-badge.svg\" alt=\"Open In Colab\"/></a>"
      ]
    },
    {
      "cell_type": "code",
      "source": [
        "import math\n",
        "ratting_voltage=float(input('enter the transformer ratting_voltage in voltamperes: '))\n",
        "primary_voltage=float(input('enter the primary_voltage in volts: '))\n",
        "secondary_voltage=float(input('enter the secondary_voltage in volts: '))\n",
        "oc_voltage=float(input('enter the oc_voltage in volts: '))\n",
        "oc_current=float(input('enter the oc_current in amperes: '))\n",
        "oc_power=float(input('enter the oc_power in watts: '))\n",
        "sc_voltage=float(input('enter the sc_voltage in volts: '))\n",
        "sc_current=float(input('enter the sc_current in amperes: '))\n",
        "sc_power=float(input('enter the sc_power in watts: '))\n",
        "pf=float(input('enter the power factor of the transformer: '))\n",
        "x=float(input('enter the loading of a transformer: '))\n",
        "eff=(x*r*100)/(x*r+oc_power+x*x*sc_power)\n",
        "npf=oc_power/(oc_voltage*oc_current)\n",
        "iw=oc_current*npf\n",
        "imv=oc_current*math.sqrt(1-npf**2)\n",
        "ro=oc_voltage/iw\n",
        "xo=oc_voltage/imv\n",
        "k=sv/pv\n",
        "rsc=sc_power/(sc_current**2)\n",
        "zsc=sc_voltage/sc_current\n",
        "xsc=math.sqrt(zsc**2-rsc**2)\n",
        "rlv=rsc/(k**2)\n",
        "xlv=xsc/(k**2)\n",
        "xcu=sc_power*(x**2)\n",
        "npa=math.acos(wo/(vo*io))\n",
        "print(\"eficciency=\",eff)\n",
        "print(\"ro=\",ro)\n",
        "print(\"xo=\",xo)\n",
        "print(\"rlv=\",rlv)\n",
        "print(\"xlv=\",xlv)\n",
        "print(\"xcu=\",xcu)\n",
        "print(\"NPA=\",npa)\n",
        "\n"
      ],
      "metadata": {
        "colab": {
          "base_uri": "https://localhost:8080/"
        },
        "id": "eTnNzJJ8VTIK",
        "outputId": "c4f88c59-47ea-437d-cda4-a90a8872c9a7"
      },
      "execution_count": 21,
      "outputs": [
        {
          "output_type": "stream",
          "name": "stdout",
          "text": [
            "enter the transformer ratting_voltage in voltamperes: 5000\n",
            "enter the primary_voltage in volts: 220\n",
            "enter the secondary_voltage in volts: 440\n",
            "enter the oc_voltage in volts: 220\n",
            "enter the oc_current in amperes: 2\n",
            "enter the oc_power in watts: 250\n",
            "enter the sc_voltage in volts: 75\n",
            "enter the sc_current in amperes: 10\n",
            "enter the sc_power in watts: 500\n",
            "enter the power factor of the transformer: 1\n",
            "enter the loading of a transformer: 1\n",
            "eficciency= 86.95652173913044\n",
            "ro= 193.6\n",
            "xo= 133.67309875319802\n",
            "rlv= 1.25\n",
            "xlv= 1.3975424859373686\n",
            "xcu= 500.0\n",
            "NPA= 0.9665016340022088\n"
          ]
        }
      ]
    }
  ]
}