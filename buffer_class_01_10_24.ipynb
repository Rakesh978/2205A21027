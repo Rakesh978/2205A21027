{
  "nbformat": 4,
  "nbformat_minor": 0,
  "metadata": {
    "colab": {
      "provenance": [],
      "authorship_tag": "ABX9TyPtc+109ildOfkbNu7e3lZ0",
      "include_colab_link": true
    },
    "kernelspec": {
      "name": "python3",
      "display_name": "Python 3"
    },
    "language_info": {
      "name": "python"
    }
  },
  "cells": [
    {
      "cell_type": "markdown",
      "metadata": {
        "id": "view-in-github",
        "colab_type": "text"
      },
      "source": [
        "<a href=\"https://colab.research.google.com/github/Rakesh978/2205A21027/blob/main/buffer_class_01_10_24.ipynb\" target=\"_parent\"><img src=\"https://colab.research.google.com/assets/colab-badge.svg\" alt=\"Open In Colab\"/></a>"
      ]
    },
    {
      "cell_type": "markdown",
      "source": [
        "# **Sets**"
      ],
      "metadata": {
        "id": "r1RGEIoag3pI"
      }
    },
    {
      "cell_type": "code",
      "execution_count": 1,
      "metadata": {
        "colab": {
          "base_uri": "https://localhost:8080/"
        },
        "id": "xoCiL0-7f5qr",
        "outputId": "ea312d91-9da4-4fbd-f549-6bd74bd469a4"
      },
      "outputs": [
        {
          "output_type": "stream",
          "name": "stdout",
          "text": [
            "{2000, 'sonu', 'rajkumar', 'srihari', 500, 1000, 'Rakesh'}\n"
          ]
        }
      ],
      "source": [
        "Element={\"Rakesh\",\"rajkumar\",\"sonu\",\"srihari\",500,1000,2000}\n",
        "print(Element)"
      ]
    },
    {
      "cell_type": "code",
      "source": [
        "Element={\"Rakesh\",\"rajkumar\",\"sonu\",\"srihari\",500,1000,1000,500}\n",
        "print(Element)"
      ],
      "metadata": {
        "colab": {
          "base_uri": "https://localhost:8080/"
        },
        "id": "oHzr83z4g7li",
        "outputId": "91ec8aab-cf54-4c49-995e-b8e0435c29c8"
      },
      "execution_count": 2,
      "outputs": [
        {
          "output_type": "stream",
          "name": "stdout",
          "text": [
            "{'rajkumar', 'sonu', 'srihari', 500, 1000, 'Rakesh'}\n"
          ]
        }
      ]
    },
    {
      "cell_type": "code",
      "source": [
        "bool_values={True,False,1,0}\n",
        "print(bool_values)\n",
        "print(len(bool_values))"
      ],
      "metadata": {
        "colab": {
          "base_uri": "https://localhost:8080/"
        },
        "id": "38eUG9RbhNZU",
        "outputId": "3f02a45c-1547-44b0-82ab-b33570b2c776"
      },
      "execution_count": 3,
      "outputs": [
        {
          "output_type": "stream",
          "name": "stdout",
          "text": [
            "{False, True}\n",
            "2\n"
          ]
        }
      ]
    },
    {
      "cell_type": "code",
      "source": [
        "a={\"Rakesh\",\"sonu\"}\n",
        "b={1,2,3,4,5,}\n",
        "c={True,False}\n",
        "print(a)\n",
        "print(b)\n",
        "print(c)\n",
        "print(len(a))\n",
        "print(len(b))\n",
        "print(len(c))"
      ],
      "metadata": {
        "colab": {
          "base_uri": "https://localhost:8080/"
        },
        "id": "7C78yf5ahiO-",
        "outputId": "41b94eaa-8edc-45dc-d6ed-03fa87f6e89a"
      },
      "execution_count": 4,
      "outputs": [
        {
          "output_type": "stream",
          "name": "stdout",
          "text": [
            "{'sonu', 'Rakesh'}\n",
            "{1, 2, 3, 4, 5}\n",
            "{False, True}\n",
            "2\n",
            "5\n",
            "2\n"
          ]
        }
      ]
    },
    {
      "cell_type": "code",
      "source": [
        "Element={\"Rakesh\",\"rajkumar\",\"sonu\",\"srihari\",500,1000,1000,500}\n",
        "print(Element)\n",
        "print(type(Element))"
      ],
      "metadata": {
        "colab": {
          "base_uri": "https://localhost:8080/"
        },
        "id": "8zrlIEVThmqv",
        "outputId": "ca7f5694-58d7-4da7-a33c-f745a58acae0"
      },
      "execution_count": 5,
      "outputs": [
        {
          "output_type": "stream",
          "name": "stdout",
          "text": [
            "{'rajkumar', 'sonu', 'srihari', 500, 1000, 'Rakesh'}\n",
            "<class 'set'>\n"
          ]
        }
      ]
    },
    {
      "cell_type": "code",
      "source": [
        "Element=set((\"Rakesh\",\"rajkumar\",\"sonu\",\"srihari\",500,1000,1000,500))\n",
        "print(Element)\n",
        "print(type(Element))"
      ],
      "metadata": {
        "colab": {
          "base_uri": "https://localhost:8080/"
        },
        "id": "NtYpbi3KkH3Z",
        "outputId": "555c8ab0-f944-4d6c-da7d-b50f08bd781c"
      },
      "execution_count": 6,
      "outputs": [
        {
          "output_type": "stream",
          "name": "stdout",
          "text": [
            "{'sonu', 1000, 'Rakesh', 'rajkumar', 'srihari', 500}\n",
            "<class 'set'>\n"
          ]
        }
      ]
    },
    {
      "cell_type": "code",
      "source": [
        "Element=set((\"Rakesh\",\"rajkumar\",\"sonu\",\"srihari\",500,1000,1000,500))\n",
        "for value in Element:\n",
        "  print(value)"
      ],
      "metadata": {
        "colab": {
          "base_uri": "https://localhost:8080/"
        },
        "id": "bO0iVyY-kM6s",
        "outputId": "8f644c99-a719-41cb-914d-4df8f289103f"
      },
      "execution_count": 7,
      "outputs": [
        {
          "output_type": "stream",
          "name": "stdout",
          "text": [
            "sonu\n",
            "1000\n",
            "Rakesh\n",
            "rajkumar\n",
            "srihari\n",
            "500\n"
          ]
        }
      ]
    },
    {
      "cell_type": "code",
      "source": [
        "Element=set((\"Rakesh\",\"rajkumar\",\"sonu\",\"srihari\",500,1000,1000,500))\n",
        "print(\"Rakesh\" in Element)\n",
        "print(\"rajkumar\" not in Element)"
      ],
      "metadata": {
        "colab": {
          "base_uri": "https://localhost:8080/"
        },
        "id": "IiswzMIBkQ3D",
        "outputId": "aa3c9ca0-7542-4ed0-c162-d5f898754d75"
      },
      "execution_count": 8,
      "outputs": [
        {
          "output_type": "stream",
          "name": "stdout",
          "text": [
            "True\n",
            "False\n"
          ]
        }
      ]
    },
    {
      "cell_type": "code",
      "source": [
        "Element={\"Rakesh\",\"rajkumar\",\"sonu\",\"srihari\"}\n",
        "print(Element)\n",
        "Element.add(\"das\")\n",
        "print(Element)"
      ],
      "metadata": {
        "colab": {
          "base_uri": "https://localhost:8080/"
        },
        "id": "kto5ZXEakV-H",
        "outputId": "b1a6f33e-b801-47fa-9638-6d457897532d"
      },
      "execution_count": 9,
      "outputs": [
        {
          "output_type": "stream",
          "name": "stdout",
          "text": [
            "{'rajkumar', 'sonu', 'srihari', 'Rakesh'}\n",
            "{'sonu', 'Rakesh', 'rajkumar', 'srihari', 'das'}\n"
          ]
        }
      ]
    },
    {
      "cell_type": "code",
      "source": [
        "Element={\"Rakesh\",\"rajkumar\",\"sonu\",\"srihari\"}\n",
        "point={\"mango\",\"apple\",\"banana\"}\n",
        "Element.update(point)\n",
        "print(Element)"
      ],
      "metadata": {
        "colab": {
          "base_uri": "https://localhost:8080/"
        },
        "id": "D4cjcJaakYtv",
        "outputId": "3494fa87-4e05-4f80-9b82-03ab67528779"
      },
      "execution_count": 10,
      "outputs": [
        {
          "output_type": "stream",
          "name": "stdout",
          "text": [
            "{'rajkumar', 'sonu', 'srihari', 'banana', 'Rakesh', 'apple', 'mango'}\n"
          ]
        }
      ]
    },
    {
      "cell_type": "code",
      "source": [
        "Element={\"Rakesh\",\"rajkumar\",\"sonu\",\"srihari\"}\n",
        "Element.remove(\"rajkumar\")\n",
        "print(Element)"
      ],
      "metadata": {
        "colab": {
          "base_uri": "https://localhost:8080/"
        },
        "id": "mXOHJ__7kcr5",
        "outputId": "e4c051d0-e0e4-415e-82c3-7f67e158229d"
      },
      "execution_count": 11,
      "outputs": [
        {
          "output_type": "stream",
          "name": "stdout",
          "text": [
            "{'sonu', 'srihari', 'Rakesh'}\n"
          ]
        }
      ]
    },
    {
      "cell_type": "code",
      "source": [
        "Element={\"Rakesh\",\"rajkumar\",\"sonu\",\"srihari\"}\n",
        "Element.discard(\"rajkumar\")\n",
        "print(Element)"
      ],
      "metadata": {
        "colab": {
          "base_uri": "https://localhost:8080/"
        },
        "id": "zYY-CANFkudc",
        "outputId": "d39f6f02-d7ca-4c2c-d030-73150e74730a"
      },
      "execution_count": 12,
      "outputs": [
        {
          "output_type": "stream",
          "name": "stdout",
          "text": [
            "{'sonu', 'srihari', 'Rakesh'}\n"
          ]
        }
      ]
    },
    {
      "cell_type": "code",
      "source": [
        "Element={\"Rakesh\",\"rajkumar\",\"sonu\",\"srihari\"}\n",
        "a=Element.pop()\n",
        "print(a)\n",
        "print(Element)"
      ],
      "metadata": {
        "colab": {
          "base_uri": "https://localhost:8080/"
        },
        "id": "5yDq3GDckx8y",
        "outputId": "d5ae6531-121a-48df-8dc3-d69324052701"
      },
      "execution_count": 13,
      "outputs": [
        {
          "output_type": "stream",
          "name": "stdout",
          "text": [
            "rajkumar\n",
            "{'sonu', 'srihari', 'Rakesh'}\n"
          ]
        }
      ]
    },
    {
      "cell_type": "code",
      "source": [
        "Element={\"Rakesh\",\"rajkumar\",\"sonu\",\"srihari\"}\n",
        "Element.clear()\n",
        "print(Element)"
      ],
      "metadata": {
        "colab": {
          "base_uri": "https://localhost:8080/"
        },
        "id": "wrczLDsik44s",
        "outputId": "2dd4d427-5c05-4073-86f4-55f06bf30453"
      },
      "execution_count": 14,
      "outputs": [
        {
          "output_type": "stream",
          "name": "stdout",
          "text": [
            "set()\n"
          ]
        }
      ]
    },
    {
      "cell_type": "code",
      "source": [
        "Element={\"Rakesh\",\"rajkumar\",\"sonu\",\"srihari\"}\n",
        "for value in Element:\n",
        "  print(value)"
      ],
      "metadata": {
        "colab": {
          "base_uri": "https://localhost:8080/"
        },
        "id": "lM6kNtpok7un",
        "outputId": "749173aa-6953-4e58-87e4-404efb717917"
      },
      "execution_count": 15,
      "outputs": [
        {
          "output_type": "stream",
          "name": "stdout",
          "text": [
            "rajkumar\n",
            "sonu\n",
            "srihari\n",
            "Rakesh\n"
          ]
        }
      ]
    },
    {
      "cell_type": "markdown",
      "source": [
        "# **List**"
      ],
      "metadata": {
        "id": "2FKQIo7xlJui"
      }
    },
    {
      "cell_type": "code",
      "source": [
        "list=['rakesh','2003']\n",
        "print(list)\n",
        "del list[1]\n",
        "print(list)"
      ],
      "metadata": {
        "colab": {
          "base_uri": "https://localhost:8080/"
        },
        "id": "GbIB4ESclDui",
        "outputId": "0059356d-f183-416f-bce1-96bf3a14fe20"
      },
      "execution_count": 16,
      "outputs": [
        {
          "output_type": "stream",
          "name": "stdout",
          "text": [
            "['rakesh', '2003']\n",
            "['rakesh']\n"
          ]
        }
      ]
    },
    {
      "cell_type": "code",
      "source": [
        "name=[\"Rakesh\",'manji','suvali']\n",
        "DOB=[2003,2004,2005]\n",
        "print(\"name with maximum character\",max(name))\n",
        "print(\"name with minimum character\",min(name))\n",
        "print(\"DOB with maximum character\",max(DOB))\n",
        "print(\"DOB with minimum character\",min(DOB))"
      ],
      "metadata": {
        "colab": {
          "base_uri": "https://localhost:8080/"
        },
        "id": "1MAzvzG_lRw9",
        "outputId": "6e39d7de-3e92-495c-cf56-12bf8ebfe5c4"
      },
      "execution_count": 17,
      "outputs": [
        {
          "output_type": "stream",
          "name": "stdout",
          "text": [
            "name with maximum character suvali\n",
            "name with minimum character Rakesh\n",
            "DOB with maximum character 2005\n",
            "DOB with minimum character 2003\n"
          ]
        }
      ]
    },
    {
      "cell_type": "code",
      "source": [
        "name=['rakesh','suvalli']\n",
        "print(\"member: \",name)\n",
        "name.insert(1,\"manji\")\n",
        "print(\"member: \",name)"
      ],
      "metadata": {
        "colab": {
          "base_uri": "https://localhost:8080/"
        },
        "id": "XF-z500tlVGJ",
        "outputId": "30e10e56-21d5-43e0-eea0-4e9801ed3416"
      },
      "execution_count": 18,
      "outputs": [
        {
          "output_type": "stream",
          "name": "stdout",
          "text": [
            "member:  ['rakesh', 'suvalli']\n",
            "member:  ['rakesh', 'manji', 'suvalli']\n"
          ]
        }
      ]
    },
    {
      "cell_type": "code",
      "source": [
        "name=['rakesh','suvalli',\"manji\"]\n",
        "print(\"member: \",name)\n",
        "name.pop()\n",
        "print(\"member: \",name)\n",
        "name.pop(1)\n",
        "print(\"member: \",name)"
      ],
      "metadata": {
        "colab": {
          "base_uri": "https://localhost:8080/"
        },
        "id": "sy4vMlf1lark",
        "outputId": "59ae716a-5ad7-4578-9b9b-6ab8319934a9"
      },
      "execution_count": 19,
      "outputs": [
        {
          "output_type": "stream",
          "name": "stdout",
          "text": [
            "member:  ['rakesh', 'suvalli', 'manji']\n",
            "member:  ['rakesh', 'suvalli']\n",
            "member:  ['rakesh']\n"
          ]
        }
      ]
    },
    {
      "cell_type": "code",
      "source": [
        "name=['rakesh','suvalli',\"manji\"]\n",
        "print(\"member: \",name)\n",
        "name.remove(\"manji\")\n",
        "print(\"member: \",name)"
      ],
      "metadata": {
        "colab": {
          "base_uri": "https://localhost:8080/"
        },
        "id": "MMbfFrOpleK0",
        "outputId": "c3e2392c-ff9d-4211-f8d9-1d028660633f"
      },
      "execution_count": 20,
      "outputs": [
        {
          "output_type": "stream",
          "name": "stdout",
          "text": [
            "member:  ['rakesh', 'suvalli', 'manji']\n",
            "member:  ['rakesh', 'suvalli']\n"
          ]
        }
      ]
    },
    {
      "cell_type": "code",
      "source": [
        "name=['rakesh','suvalli',\"manji\"]\n",
        "print(\"member: \",name)\n",
        "name.reverse()\n",
        "print(\"member: \",name)"
      ],
      "metadata": {
        "colab": {
          "base_uri": "https://localhost:8080/"
        },
        "id": "kJjF1kJglhnz",
        "outputId": "3da819f9-7296-4433-d11c-013a5c90e307"
      },
      "execution_count": 21,
      "outputs": [
        {
          "output_type": "stream",
          "name": "stdout",
          "text": [
            "member:  ['rakesh', 'suvalli', 'manji']\n",
            "member:  ['manji', 'suvalli', 'rakesh']\n"
          ]
        }
      ]
    },
    {
      "cell_type": "code",
      "source": [
        "name=['rakesh','suvalli',\"manji\"]\n",
        "print(\"member: \",name)\n",
        "name.sort()\n",
        "print(\"member: \",name)"
      ],
      "metadata": {
        "colab": {
          "base_uri": "https://localhost:8080/"
        },
        "id": "eOZTOJNRlmWA",
        "outputId": "1c7149ed-18d0-4eb5-9be5-47c02e4d7d23"
      },
      "execution_count": 22,
      "outputs": [
        {
          "output_type": "stream",
          "name": "stdout",
          "text": [
            "member:  ['rakesh', 'suvalli', 'manji']\n",
            "member:  ['manji', 'rakesh', 'suvalli']\n"
          ]
        }
      ]
    },
    {
      "cell_type": "markdown",
      "source": [
        "# **Tuples**"
      ],
      "metadata": {
        "id": "CgV2nPrsluS1"
      }
    },
    {
      "cell_type": "code",
      "source": [
        "tuple=(\"rakesh\",\"vikram\",\"ajay\",\"ambadas\")\n",
        "print(tuple)\n",
        "print(tuple[0])\n",
        "print(tuple[0:2])\n",
        "print(tuple[0:])\n",
        "print(tuple[::-1])\n",
        "print(tuple[2:0:-1])"
      ],
      "metadata": {
        "colab": {
          "base_uri": "https://localhost:8080/"
        },
        "id": "tMlOYo7LlqPM",
        "outputId": "f376a0d9-2a08-4409-e48a-776eb9502af8"
      },
      "execution_count": 23,
      "outputs": [
        {
          "output_type": "stream",
          "name": "stdout",
          "text": [
            "('rakesh', 'vikram', 'ajay', 'ambadas')\n",
            "rakesh\n",
            "('rakesh', 'vikram')\n",
            "('rakesh', 'vikram', 'ajay', 'ambadas')\n",
            "('ambadas', 'ajay', 'vikram', 'rakesh')\n",
            "('ajay', 'vikram')\n"
          ]
        }
      ]
    },
    {
      "cell_type": "code",
      "source": [
        "tuple=(\"rakesh\",\"vikram\",\"ajay\",\"ambadas\")\n",
        "tg=(200,2004,2002)\n",
        "print(tuple*2)\n",
        "print(tuple+tg)\n",
        "list=[\"pavan\",\"phanindra\",\"rahul\"]\n",
        "print(list)\n",
        "list[0]=\"rajkumar\"\n",
        "print(list)"
      ],
      "metadata": {
        "colab": {
          "base_uri": "https://localhost:8080/"
        },
        "id": "VO01irPtlwHN",
        "outputId": "68b87fa1-a085-41d9-d298-f4f251be5ff8"
      },
      "execution_count": 24,
      "outputs": [
        {
          "output_type": "stream",
          "name": "stdout",
          "text": [
            "('rakesh', 'vikram', 'ajay', 'ambadas', 'rakesh', 'vikram', 'ajay', 'ambadas')\n",
            "('rakesh', 'vikram', 'ajay', 'ambadas', 200, 2004, 2002)\n",
            "['pavan', 'phanindra', 'rahul']\n",
            "['rajkumar', 'phanindra', 'rahul']\n"
          ]
        }
      ]
    },
    {
      "cell_type": "markdown",
      "source": [
        "# **Dictionary**"
      ],
      "metadata": {
        "id": "wCUdjDb3l8Yr"
      }
    },
    {
      "cell_type": "code",
      "source": [
        "dict={}\n",
        "print(dict)\n",
        "dict[\"one\"]=\"my opinon is my own\"\n",
        "print(dict)\n",
        "dict[\"2\"]=\"my self\"\n",
        "print(dict)\n",
        "print(dict.keys())\n",
        "print(dict.values())"
      ],
      "metadata": {
        "colab": {
          "base_uri": "https://localhost:8080/"
        },
        "id": "xpCxHqiyl5FY",
        "outputId": "76cd3b5b-80a3-4ab0-981e-39c13050ff20"
      },
      "execution_count": 25,
      "outputs": [
        {
          "output_type": "stream",
          "name": "stdout",
          "text": [
            "{}\n",
            "{'one': 'my opinon is my own'}\n",
            "{'one': 'my opinon is my own', '2': 'my self'}\n",
            "dict_keys(['one', '2'])\n",
            "dict_values(['my opinon is my own', 'my self'])\n"
          ]
        }
      ]
    },
    {
      "cell_type": "code",
      "source": [
        "base={\"name\":\"rakesh\",\"marks\":848}\n",
        "print(base)\n",
        "print(base[\"name\"])\n",
        "print(base[\"marks\"])\n",
        "base[\"marks\"]=900\n",
        "print(base)\n",
        "base[\"name\"]=\"sonu\"\n",
        "print(base)\n",
        "print(base.keys())\n",
        "print(base.values())"
      ],
      "metadata": {
        "colab": {
          "base_uri": "https://localhost:8080/"
        },
        "id": "hiOEXy8amJG7",
        "outputId": "d0379c42-6488-415a-a2a1-b8e313aab470"
      },
      "execution_count": 26,
      "outputs": [
        {
          "output_type": "stream",
          "name": "stdout",
          "text": [
            "{'name': 'rakesh', 'marks': 848}\n",
            "rakesh\n",
            "848\n",
            "{'name': 'rakesh', 'marks': 900}\n",
            "{'name': 'sonu', 'marks': 900}\n",
            "dict_keys(['name', 'marks'])\n",
            "dict_values(['sonu', 900])\n"
          ]
        }
      ]
    },
    {
      "cell_type": "code",
      "source": [],
      "metadata": {
        "id": "HHR4wr78mOrd"
      },
      "execution_count": null,
      "outputs": []
    }
  ]
}