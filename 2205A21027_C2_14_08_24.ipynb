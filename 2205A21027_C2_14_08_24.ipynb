{
  "nbformat": 4,
  "nbformat_minor": 0,
  "metadata": {
    "colab": {
      "provenance": [],
      "include_colab_link": true
    },
    "kernelspec": {
      "name": "python3",
      "display_name": "Python 3"
    },
    "language_info": {
      "name": "python"
    }
  },
  "cells": [
    {
      "cell_type": "markdown",
      "metadata": {
        "id": "view-in-github",
        "colab_type": "text"
      },
      "source": [
        "<a href=\"https://colab.research.google.com/github/Rakesh978/2205A21027/blob/main/2205A21027_C2_14_08_24.ipynb\" target=\"_parent\"><img src=\"https://colab.research.google.com/assets/colab-badge.svg\" alt=\"Open In Colab\"/></a>"
      ]
    },
    {
      "cell_type": "markdown",
      "source": [
        "### **define Function**"
      ],
      "metadata": {
        "id": "5UpvlY6gDrAc"
      }
    },
    {
      "cell_type": "markdown",
      "source": [
        "# build the details yourself by using def"
      ],
      "metadata": {
        "id": "Il5RFbxPQR-V"
      }
    },
    {
      "cell_type": "code",
      "execution_count": null,
      "metadata": {
        "id": "IgEsWBVvAr2d"
      },
      "outputs": [],
      "source": [
        "def my_details():\n",
        "  print(\"Name:Rakesh\")\n",
        "  print(\"Hall_Ticketno:2205A21027\")\n",
        "  print(\"Department: EEE\")\n",
        "  print(\"year: 3rd\")"
      ]
    },
    {
      "cell_type": "code",
      "source": [
        "my_details()\n",
        "my_details()"
      ],
      "metadata": {
        "colab": {
          "base_uri": "https://localhost:8080/"
        },
        "id": "HaV_Act_C4CV",
        "outputId": "376bd48a-c1bf-4392-e39b-f0912e7d53d6"
      },
      "execution_count": null,
      "outputs": [
        {
          "output_type": "stream",
          "name": "stdout",
          "text": [
            "Name:Rakesh\n",
            "Hall_Ticketno:2205A21027\n",
            "Department: EEE\n",
            "year: 3rd\n",
            "Name:Rakesh\n",
            "Hall_Ticketno:2205A21027\n",
            "Department: EEE\n",
            "year: 3rd\n"
          ]
        }
      ]
    },
    {
      "cell_type": "markdown",
      "source": [
        "# build a details by using def"
      ],
      "metadata": {
        "id": "dCiwUDUpQGdg"
      }
    },
    {
      "cell_type": "code",
      "source": [
        "def my_details(Name,RollNo,collage_name,department,year):\n",
        " print(\"entered name\",Name)\n",
        " print(\"entered Roll no\",RollNo)\n",
        " print(\"entered collage_name\",collage_name)\n",
        " print(\"entered department\",department)\n",
        " print(\"entered year\",year)"
      ],
      "metadata": {
        "id": "FcKz-JT-C8J1"
      },
      "execution_count": null,
      "outputs": []
    },
    {
      "cell_type": "code",
      "source": [
        "my_details('Rakesh',27,'SR','EEE',3)"
      ],
      "metadata": {
        "colab": {
          "base_uri": "https://localhost:8080/"
        },
        "id": "HDe_ofEpI7Gc",
        "outputId": "5269f774-8e7d-467e-c84c-8d3301c327d9"
      },
      "execution_count": null,
      "outputs": [
        {
          "output_type": "stream",
          "name": "stdout",
          "text": [
            "entered name Rakesh\n",
            "entered Roll no 27\n",
            "entered collage_name SR\n",
            "entered department EEE\n",
            "entered year 3\n"
          ]
        }
      ]
    },
    {
      "cell_type": "markdown",
      "source": [
        "# **build the calculator using def **"
      ],
      "metadata": {
        "id": "sfXZhLU3P3qn"
      }
    },
    {
      "cell_type": "code",
      "source": [
        "def calculator(a,b):\n",
        "  print(\"enterd Add\",a+b)\n",
        "  print(\"entered sub\",a-b)\n",
        "  print(\"entered mul\",a*b)\n",
        "  print(\"enterd div\",a/b)\n",
        "  print(\"enterd rem\",a%b)\n",
        "  print(\"enterd power\",a**b)\n",
        "\n"
      ],
      "metadata": {
        "id": "fC7liOs_JmN2"
      },
      "execution_count": null,
      "outputs": []
    },
    {
      "cell_type": "code",
      "source": [
        "calculator(8,2)"
      ],
      "metadata": {
        "colab": {
          "base_uri": "https://localhost:8080/"
        },
        "id": "UJnf7RQULgEv",
        "outputId": "556880df-7131-4e09-99b6-7d2f20900395"
      },
      "execution_count": null,
      "outputs": [
        {
          "output_type": "stream",
          "name": "stdout",
          "text": [
            "enterd Add 10\n",
            "entered sub 6\n",
            "entered mul 16\n",
            "enterd div 4.0\n",
            "enterd rem 0\n",
            "enterd power 64\n"
          ]
        }
      ]
    },
    {
      "cell_type": "markdown",
      "source": [
        "# To build the efficiency by using def function"
      ],
      "metadata": {
        "id": "PtnGml79PMVf"
      }
    },
    {
      "cell_type": "code",
      "source": [
        "def performance(Rating,powerfactor,fcu,core_losses):\n",
        " output=Rating*powerfactor\n",
        " input=output+fcu+core_losses\n",
        " efficiency=(output*100)/input\n",
        " return efficiency"
      ],
      "metadata": {
        "id": "V82cLHmANbo-"
      },
      "execution_count": null,
      "outputs": []
    },
    {
      "cell_type": "code",
      "source": [
        "e=performance(10000000,0.95,500000,100000)\n",
        "print(\"efficiency=\",e)"
      ],
      "metadata": {
        "colab": {
          "base_uri": "https://localhost:8080/"
        },
        "id": "ceRmF251Ozi3",
        "outputId": "46024544-ca7e-470a-f736-b3ba8b1219f6"
      },
      "execution_count": null,
      "outputs": [
        {
          "output_type": "stream",
          "name": "stdout",
          "text": [
            "efficiency= 94.05940594059406\n"
          ]
        }
      ]
    },
    {
      "cell_type": "markdown",
      "source": [
        "# Hotel Bill"
      ],
      "metadata": {
        "id": "L2rH-Hd8UjBc"
      }
    },
    {
      "cell_type": "code",
      "source": [
        "def bill(no_items,price=10):\n",
        " bill_Amount= no_items*price\n",
        " return bill_Amount"
      ],
      "metadata": {
        "id": "YNTVWy-9TCxF"
      },
      "execution_count": null,
      "outputs": []
    },
    {
      "cell_type": "code",
      "source": [
        "rajkumar=bill(10)\n",
        "print(rajkumar)\n",
        "rajkumar=bill(25,50)\n",
        "print(rajkumar)"
      ],
      "metadata": {
        "colab": {
          "base_uri": "https://localhost:8080/"
        },
        "id": "vcnIVQJMT3x_",
        "outputId": "680f5502-cccc-46bf-f87a-cd1e1244abde"
      },
      "execution_count": null,
      "outputs": [
        {
          "output_type": "stream",
          "name": "stdout",
          "text": [
            "100\n",
            "1250\n"
          ]
        }
      ]
    }
  ]
}