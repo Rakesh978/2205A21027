{
  "nbformat": 4,
  "nbformat_minor": 0,
  "metadata": {
    "colab": {
      "provenance": [],
      "include_colab_link": true
    },
    "kernelspec": {
      "name": "python3",
      "display_name": "Python 3"
    },
    "language_info": {
      "name": "python"
    }
  },
  "cells": [
    {
      "cell_type": "markdown",
      "metadata": {
        "id": "view-in-github",
        "colab_type": "text"
      },
      "source": [
        "<a href=\"https://colab.research.google.com/github/Rakesh978/2205A21027/blob/main/class_05_09_24.ipynb\" target=\"_parent\"><img src=\"https://colab.research.google.com/assets/colab-badge.svg\" alt=\"Open In Colab\"/></a>"
      ]
    },
    {
      "cell_type": "markdown",
      "source": [
        "# ***statements***\n",
        "\n",
        "1) break statement\n",
        "\n",
        "2) continue statement\n",
        "\n",
        "3) pass statement\n",
        "\n",
        "**==> break statement**\n",
        "\n",
        "terminates the loop statement and transfers execution to the statement immedi"
      ],
      "metadata": {
        "id": "lGhxHxFoIlC2"
      }
    },
    {
      "cell_type": "code",
      "execution_count": null,
      "metadata": {
        "colab": {
          "base_uri": "https://localhost:8080/"
        },
        "id": "tpT6DCRGG3rW",
        "outputId": "361976d0-ed6a-4dd5-f01e-03570809f59b"
      },
      "outputs": [
        {
          "output_type": "stream",
          "name": "stdout",
          "text": [
            "index= 3\n",
            "good byee\n"
          ]
        }
      ],
      "source": [
        "num=[10,2,6,5,12]\n",
        "for i in range(len(num)):\n",
        "  if(num[i]==5):\n",
        "    print(\"index=\",i)\n",
        "print(\"good byee\")"
      ]
    },
    {
      "cell_type": "markdown",
      "source": [
        "using break statement"
      ],
      "metadata": {
        "id": "6hd7X2cWQo2P"
      }
    },
    {
      "cell_type": "code",
      "source": [
        "num=[10,2,6,3,5]\n",
        "for i in range(len(num)):\n",
        "  print(\"a=\",num[i])\n",
        "  if(i==2):\n",
        "    break"
      ],
      "metadata": {
        "colab": {
          "base_uri": "https://localhost:8080/"
        },
        "id": "H6MX61RpKn3g",
        "outputId": "f40bfa80-72eb-4649-959f-aabbd158e237"
      },
      "execution_count": null,
      "outputs": [
        {
          "output_type": "stream",
          "name": "stdout",
          "text": [
            "a= 10\n",
            "a= 2\n",
            "a= 6\n"
          ]
        }
      ]
    },
    {
      "cell_type": "code",
      "source": [
        "num=[3,9,8,7,13,17,19]\n",
        "for i in range(len(num)):\n",
        "  if(num[i]%2==0):\n",
        "    print(\"even number=\",num[i])\n",
        "    break"
      ],
      "metadata": {
        "colab": {
          "base_uri": "https://localhost:8080/"
        },
        "id": "PlnEQqIXNSr3",
        "outputId": "18bb0a53-68be-4011-e607-a1ace05afbf2"
      },
      "execution_count": null,
      "outputs": [
        {
          "output_type": "stream",
          "name": "stdout",
          "text": [
            "even number= 8\n"
          ]
        }
      ]
    },
    {
      "cell_type": "code",
      "source": [
        "num=15\n",
        "while(num>0):\n",
        "  print(\"num=\",num)\n",
        "  if(num==3):\n",
        "    break\n",
        "  num=num-1\n",
        "print(\"good\")"
      ],
      "metadata": {
        "colab": {
          "base_uri": "https://localhost:8080/"
        },
        "id": "hhnMiSiePlwG",
        "outputId": "d02fe18b-1af9-441b-9900-ddda1300ba8e"
      },
      "execution_count": null,
      "outputs": [
        {
          "output_type": "stream",
          "name": "stdout",
          "text": [
            "num= 15\n",
            "num= 14\n",
            "num= 13\n",
            "num= 12\n",
            "num= 11\n",
            "num= 10\n",
            "num= 9\n",
            "num= 8\n",
            "num= 7\n",
            "num= 6\n",
            "num= 5\n",
            "num= 4\n",
            "num= 3\n",
            "good\n"
          ]
        }
      ]
    },
    {
      "cell_type": "code",
      "source": [
        "num=[2,3,20,25,40,50,60,80]\n",
        "a=input(\"enter the number:\")\n",
        "for i in range(len(num)):\n",
        "  if(num[i]==a):\n",
        "    print(\"number=\",num[i])\n",
        "    break\n",
        "  else:\n",
        "      if(i==len(num)-1):\n",
        "        print(\"number not found\")\n"
      ],
      "metadata": {
        "colab": {
          "base_uri": "https://localhost:8080/"
        },
        "id": "ZDAKgnycQlv_",
        "outputId": "72f65e12-b053-4ebd-aab2-de6a2e071b32"
      },
      "execution_count": null,
      "outputs": [
        {
          "output_type": "stream",
          "name": "stdout",
          "text": [
            "enter the number:45\n",
            "number not found\n"
          ]
        }
      ]
    },
    {
      "cell_type": "markdown",
      "source": [
        "**continue statement**"
      ],
      "metadata": {
        "id": "OvR_7yVlVh3f"
      }
    },
    {
      "cell_type": "code",
      "source": [
        "str= \"rajkumar\"\n",
        "for i in str:\n",
        "  if(i==\"u\"):\n",
        "    continue\n",
        "  print(\"letter=\",i)\n",
        "print(\"rakesh\")"
      ],
      "metadata": {
        "colab": {
          "base_uri": "https://localhost:8080/"
        },
        "id": "OgXopKltVfI3",
        "outputId": "b831fb12-77e3-446e-e030-ad84939bee69"
      },
      "execution_count": null,
      "outputs": [
        {
          "output_type": "stream",
          "name": "stdout",
          "text": [
            "letter= r\n",
            "letter= a\n",
            "letter= j\n",
            "letter= k\n",
            "letter= m\n",
            "letter= a\n",
            "letter= r\n",
            "rakesh\n"
          ]
        }
      ]
    },
    {
      "cell_type": "code",
      "source": [
        "str= \"rajkumar\"\n",
        "for i in str:\n",
        "  if(i==\"u\"):\n",
        "    break\n",
        "  print(\"letter=\",i)\n",
        "print(\"rakesh\")"
      ],
      "metadata": {
        "colab": {
          "base_uri": "https://localhost:8080/"
        },
        "id": "1bA7YVkBXQYt",
        "outputId": "54d64afb-b489-458d-a93f-6b7ca361c832"
      },
      "execution_count": null,
      "outputs": [
        {
          "output_type": "stream",
          "name": "stdout",
          "text": [
            "letter= r\n",
            "letter= a\n",
            "letter= j\n",
            "letter= k\n",
            "rakesh\n"
          ]
        }
      ]
    },
    {
      "cell_type": "code",
      "source": [
        "num=15\n",
        "while(num>0):\n",
        "  num=num-1\n",
        "  if(num>8):\n",
        "    continue\n",
        "  print(\"num=\",num)\n",
        "print(\"rajkumar\")"
      ],
      "metadata": {
        "colab": {
          "base_uri": "https://localhost:8080/"
        },
        "id": "WGMiP1WuX46K",
        "outputId": "65d599bd-06c5-41bf-d945-dbee92624718"
      },
      "execution_count": null,
      "outputs": [
        {
          "output_type": "stream",
          "name": "stdout",
          "text": [
            "num= 8\n",
            "num= 7\n",
            "num= 6\n",
            "num= 5\n",
            "num= 4\n",
            "num= 3\n",
            "num= 2\n",
            "num= 1\n",
            "num= 0\n",
            "rajkumar\n"
          ]
        }
      ]
    },
    {
      "cell_type": "code",
      "source": [
        "num=[10,20,30,40,50]\n",
        "for i in num:\n",
        "  if(i==30):\n",
        "    print(i)\n",
        "    break\n",
        "  print(i)"
      ],
      "metadata": {
        "colab": {
          "base_uri": "https://localhost:8080/"
        },
        "id": "Y_JOaZ1OYjKp",
        "outputId": "4998d61c-5704-40d3-c901-26838399daa9"
      },
      "execution_count": null,
      "outputs": [
        {
          "output_type": "stream",
          "name": "stdout",
          "text": [
            "10\n",
            "20\n",
            "30\n"
          ]
        }
      ]
    },
    {
      "cell_type": "code",
      "source": [
        "num=[10,20,30,40,50]\n",
        "for i in num:\n",
        "  if(i==30):\n",
        "    continue\n",
        "    print(i)\n",
        "  print(i)"
      ],
      "metadata": {
        "colab": {
          "base_uri": "https://localhost:8080/"
        },
        "id": "h-IMhY88ZJZF",
        "outputId": "93748709-c2af-4ba3-b848-f40baf2e6fe5"
      },
      "execution_count": null,
      "outputs": [
        {
          "output_type": "stream",
          "name": "stdout",
          "text": [
            "10\n",
            "20\n",
            "40\n",
            "50\n"
          ]
        }
      ]
    },
    {
      "cell_type": "markdown",
      "source": [
        "# ***global variable and local variable***\n",
        "\n",
        "==> variable is out side the  function is global variable\n",
        "\n",
        "==> variable is inside the function is local variable"
      ],
      "metadata": {
        "id": "PPAACosFZ5MB"
      }
    },
    {
      "cell_type": "code",
      "source": [
        "x=5\n",
        "def r(x):\n",
        "  global a\n",
        "  y=x+5\n",
        "  z=10\n",
        "  print(z,y)\n",
        "r()\n",
        "print(z)"
      ],
      "metadata": {
        "colab": {
          "base_uri": "https://localhost:8080/",
          "height": 193
        },
        "id": "0gHcStsNZ_y5",
        "outputId": "704c379a-edb3-4d6e-f86f-ebe73463fded"
      },
      "execution_count": null,
      "outputs": [
        {
          "output_type": "error",
          "ename": "TypeError",
          "evalue": "r() missing 1 required positional argument: 'x'",
          "traceback": [
            "\u001b[0;31m---------------------------------------------------------------------------\u001b[0m",
            "\u001b[0;31mTypeError\u001b[0m                                 Traceback (most recent call last)",
            "\u001b[0;32m<ipython-input-89-4c60f1225733>\u001b[0m in \u001b[0;36m<cell line: 7>\u001b[0;34m()\u001b[0m\n\u001b[1;32m      5\u001b[0m   \u001b[0mz\u001b[0m\u001b[0;34m=\u001b[0m\u001b[0;36m10\u001b[0m\u001b[0;34m\u001b[0m\u001b[0;34m\u001b[0m\u001b[0m\n\u001b[1;32m      6\u001b[0m   \u001b[0mprint\u001b[0m\u001b[0;34m(\u001b[0m\u001b[0mz\u001b[0m\u001b[0;34m,\u001b[0m\u001b[0my\u001b[0m\u001b[0;34m)\u001b[0m\u001b[0;34m\u001b[0m\u001b[0;34m\u001b[0m\u001b[0m\n\u001b[0;32m----> 7\u001b[0;31m \u001b[0mr\u001b[0m\u001b[0;34m(\u001b[0m\u001b[0;34m)\u001b[0m\u001b[0;34m\u001b[0m\u001b[0;34m\u001b[0m\u001b[0m\n\u001b[0m\u001b[1;32m      8\u001b[0m \u001b[0mprint\u001b[0m\u001b[0;34m(\u001b[0m\u001b[0mz\u001b[0m\u001b[0;34m)\u001b[0m\u001b[0;34m\u001b[0m\u001b[0;34m\u001b[0m\u001b[0m\n",
            "\u001b[0;31mTypeError\u001b[0m: r() missing 1 required positional argument: 'x'"
          ]
        }
      ]
    }
  ]
}