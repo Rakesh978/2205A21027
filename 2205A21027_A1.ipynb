{
  "nbformat": 4,
  "nbformat_minor": 0,
  "metadata": {
    "colab": {
      "provenance": [],
      "authorship_tag": "ABX9TyMXc5+48cqI2sN4v8c+rSEO",
      "include_colab_link": true
    },
    "kernelspec": {
      "name": "python3",
      "display_name": "Python 3"
    },
    "language_info": {
      "name": "python"
    }
  },
  "cells": [
    {
      "cell_type": "markdown",
      "metadata": {
        "id": "view-in-github",
        "colab_type": "text"
      },
      "source": [
        "<a href=\"https://colab.research.google.com/github/Rakesh978/2205A21027/blob/main/2205A21027_A1.ipynb\" target=\"_parent\"><img src=\"https://colab.research.google.com/assets/colab-badge.svg\" alt=\"Open In Colab\"/></a>"
      ]
    },
    {
      "cell_type": "markdown",
      "source": [
        "# **ASSIGNMENT-1**\n",
        "Effiency and copper losses"
      ],
      "metadata": {
        "id": "uNBmFQGqypYL"
      }
    },
    {
      "cell_type": "code",
      "execution_count": null,
      "metadata": {
        "colab": {
          "base_uri": "https://localhost:8080/"
        },
        "id": "kgPqgYaqyoQT",
        "outputId": "e57cc37e-76f1-4d25-d470-0b4cc25532dc"
      },
      "outputs": [
        {
          "output_type": "stream",
          "name": "stdout",
          "text": [
            "enter the rating of the transformer in volt ampieres or watts:10000000\n",
            "enter the coreloss of the transformer in watts:100000\n",
            "enter the full load copper loss of the transformer in watts:500000\n",
            "enter the power factor or loading of the transformer:0.95\n",
            "enter the load value inserted for the transformer:0.75\n",
            "The enterd rating of the transformer at k value of load is: 10000000.0\n",
            "The enterd rating of the transformer of the transformer at k value of load is: 100000.0\n",
            "The final efficiency of the transformer at k value of load is: 94.92089925062447\n",
            "The enterd loading of the transformer at k value of load is: 0.95\n",
            "The enterd copper loss of the transformer at k value of load is: 500000.0\n",
            "The final max efficiency of the transformer at k value of load is: 0.4472135954999579\n",
            "The enterd Kcu_loss of the transformer at k value of load is: 281250.0\n"
          ]
        }
      ],
      "source": [
        "# Online Python compiler (interpreter) to run Python online.\n",
        "# Write Python 3 code in this online editor and run it.\n",
        "import math\n",
        "rating=float(input(\"enter the rating of the transformer in volt ampieres or watts:\"))\n",
        "coreloss=float(input(\"enter the coreloss of the transformer in watts:\"))\n",
        "fLcu_loss=float(input(\"enter the full load copper loss of the transformer in watts:\"))\n",
        "pf=float(input(\"enter the power factor or loading of the transformer:\"))\n",
        "k=float(input(\"enter the load value inserted for the transformer:\"))\n",
        "eff_transf=((k*rating*pf)/((k*rating*pf)+(k*k*fLcu_loss)+coreloss))*100\n",
        "Kcu_loss=(k*k*fLcu_loss)\n",
        "ratio=(coreloss/fLcu_loss)\n",
        "Kmax=math.sqrt(ratio)\n",
        "print(\"The enterd rating of the transformer at k value of load is:\",rating)\n",
        "print(\"The enterd rating of the transformer of the transformer at k value of load is:\",coreloss)\n",
        "print(\"The final efficiency of the transformer at k value of load is:\",eff_transf)\n",
        "print(\"The enterd loading of the transformer at k value of load is:\",pf)\n",
        "print(\"The enterd copper loss of the transformer at k value of load is:\",fLcu_loss)\n",
        "print(\"The final max efficiency of the transformer at k value of load is:\",Kmax)\n",
        "print(\"The enterd Kcu_loss of the transformer at k value of load is:\",Kcu_loss)"
      ]
    }
  ]
}