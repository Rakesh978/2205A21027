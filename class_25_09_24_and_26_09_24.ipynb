{
  "nbformat": 4,
  "nbformat_minor": 0,
  "metadata": {
    "colab": {
      "provenance": [],
      "include_colab_link": true
    },
    "kernelspec": {
      "name": "python3",
      "display_name": "Python 3"
    },
    "language_info": {
      "name": "python"
    }
  },
  "cells": [
    {
      "cell_type": "markdown",
      "metadata": {
        "id": "view-in-github",
        "colab_type": "text"
      },
      "source": [
        "<a href=\"https://colab.research.google.com/github/Rakesh978/2205A21027/blob/main/class_25_09_24_and_26_09_24.ipynb\" target=\"_parent\"><img src=\"https://colab.research.google.com/assets/colab-badge.svg\" alt=\"Open In Colab\"/></a>"
      ]
    },
    {
      "cell_type": "markdown",
      "source": [
        "# ***UNIT=2***\n",
        "\n",
        "# Python collection\n",
        "\n",
        "==> List: we can change the elements and dubilcate elements its presents in a list\n",
        "\n",
        "==> Tuple: unchangeable elements and its allows duplicate elements\n",
        "\n",
        "==> Set: its not allows the duplicate elements and unorder changeable data\n",
        "\n",
        "==> Dictionary: its not allow the duplicate and with in the order\n",
        "\n",
        "***SET***\n",
        "\n",
        "==> set is a collection of ordered unchangeable and unindex and no duplicate elements\n",
        "\n",
        "==> sets is used to store the elements and presented as {}\n",
        "\n",
        "==> its nots allowed the duplicate values"
      ],
      "metadata": {
        "id": "dPO56nkOR_38"
      }
    },
    {
      "cell_type": "code",
      "execution_count": null,
      "metadata": {
        "colab": {
          "base_uri": "https://localhost:8080/"
        },
        "id": "Kvah4dW4R_JY",
        "outputId": "cf19a9d4-aca6-4988-f584-08c34aca082c"
      },
      "outputs": [
        {
          "output_type": "stream",
          "name": "stdout",
          "text": [
            "{2000, 'rajkumar', 500, 1000, 'Rakesh', 'srihari', 'sonu'}\n"
          ]
        }
      ],
      "source": [
        "Element={\"Rakesh\",\"rajkumar\",\"sonu\",\"srihari\",500,1000,2000}\n",
        "print(Element)"
      ]
    },
    {
      "cell_type": "markdown",
      "source": [
        "# set duplicate value"
      ],
      "metadata": {
        "id": "BBzRobI5Uu99"
      }
    },
    {
      "cell_type": "code",
      "source": [
        "Element={\"Rakesh\",\"rajkumar\",\"sonu\",\"srihari\",500,1000,1000,500}\n",
        "print(Element)"
      ],
      "metadata": {
        "colab": {
          "base_uri": "https://localhost:8080/"
        },
        "id": "bTYcVTADURSU",
        "outputId": "0da737a6-f3b2-4169-ee67-19a183391206"
      },
      "execution_count": null,
      "outputs": [
        {
          "output_type": "stream",
          "name": "stdout",
          "text": [
            "{'rajkumar', 500, 1000, 'Rakesh', 'srihari', 'sonu'}\n"
          ]
        }
      ]
    },
    {
      "cell_type": "markdown",
      "source": [
        "==> true and 1 are same value\n",
        "\n",
        "==> flase and 0 are same"
      ],
      "metadata": {
        "id": "C6kfqPT8VERA"
      }
    },
    {
      "cell_type": "code",
      "source": [
        "bool_values={True,False,1,0}\n",
        "print(bool_values)\n",
        "print(len(bool_values))"
      ],
      "metadata": {
        "colab": {
          "base_uri": "https://localhost:8080/"
        },
        "id": "pxVFTObMU5hf",
        "outputId": "cce54f05-463a-4987-f0d0-fed00ffd1523"
      },
      "execution_count": null,
      "outputs": [
        {
          "output_type": "stream",
          "name": "stdout",
          "text": [
            "{False, True}\n",
            "2\n"
          ]
        }
      ]
    },
    {
      "cell_type": "code",
      "source": [
        "a={\"Rakesh\",\"sonu\"}\n",
        "b={1,2,3,4,5,}\n",
        "c={True,False}\n",
        "print(a)\n",
        "print(b)\n",
        "print(c)\n",
        "print(len(a))\n",
        "print(len(b))\n",
        "print(len(c))"
      ],
      "metadata": {
        "colab": {
          "base_uri": "https://localhost:8080/"
        },
        "id": "RsgA8UWjVlfn",
        "outputId": "5742f69e-c5c8-43de-da79-26276fe0d396"
      },
      "execution_count": null,
      "outputs": [
        {
          "output_type": "stream",
          "name": "stdout",
          "text": [
            "{'Rakesh', 'sonu'}\n",
            "{1, 2, 3, 4, 5}\n",
            "{False, True}\n",
            "2\n",
            "5\n",
            "2\n"
          ]
        }
      ]
    },
    {
      "cell_type": "markdown",
      "source": [
        "## set-type() and constructor"
      ],
      "metadata": {
        "id": "EsFRUN1LWbiA"
      }
    },
    {
      "cell_type": "code",
      "source": [
        "Element={\"Rakesh\",\"rajkumar\",\"sonu\",\"srihari\",500,1000,1000,500}\n",
        "print(Element)\n",
        "print(type(Element))"
      ],
      "metadata": {
        "colab": {
          "base_uri": "https://localhost:8080/"
        },
        "id": "JMflm7AeWXWt",
        "outputId": "73d5ff94-4615-45ab-8840-d84cd8a896c3"
      },
      "execution_count": null,
      "outputs": [
        {
          "output_type": "stream",
          "name": "stdout",
          "text": [
            "{'rajkumar', 500, 1000, 'Rakesh', 'srihari', 'sonu'}\n",
            "<class 'set'>\n"
          ]
        }
      ]
    },
    {
      "cell_type": "code",
      "source": [
        "Element=set((\"Rakesh\",\"rajkumar\",\"sonu\",\"srihari\",500,1000,1000,500))\n",
        "print(Element)\n",
        "print(type(Element))"
      ],
      "metadata": {
        "colab": {
          "base_uri": "https://localhost:8080/"
        },
        "id": "V86jGzpkWxzN",
        "outputId": "2919185a-6518-4670-c982-1354963ed210"
      },
      "execution_count": null,
      "outputs": [
        {
          "output_type": "stream",
          "name": "stdout",
          "text": [
            "{1000, 'srihari', 'sonu', 'rajkumar', 500, 'Rakesh'}\n",
            "<class 'set'>\n"
          ]
        }
      ]
    },
    {
      "cell_type": "markdown",
      "source": [
        "# Access set items"
      ],
      "metadata": {
        "id": "l6oAtaINXljr"
      }
    },
    {
      "cell_type": "code",
      "source": [
        "Element=set((\"Rakesh\",\"rajkumar\",\"sonu\",\"srihari\",500,1000,1000,500))\n",
        "for value in Element:\n",
        "  print(value)"
      ],
      "metadata": {
        "colab": {
          "base_uri": "https://localhost:8080/"
        },
        "id": "hF0HhqsOW8vr",
        "outputId": "b9289b01-b7b7-4373-a6ca-83e7ee02e672"
      },
      "execution_count": null,
      "outputs": [
        {
          "output_type": "stream",
          "name": "stdout",
          "text": [
            "1000\n",
            "srihari\n",
            "sonu\n",
            "rajkumar\n",
            "500\n",
            "Rakesh\n"
          ]
        }
      ]
    },
    {
      "cell_type": "markdown",
      "source": [
        "# Checking elements in set\n",
        "\n",
        "==> use in command its give the True\n",
        "\n",
        "==> use not in command its give the the false"
      ],
      "metadata": {
        "id": "bB6nw91-YZNL"
      }
    },
    {
      "cell_type": "code",
      "source": [
        "Element=set((\"Rakesh\",\"rajkumar\",\"sonu\",\"srihari\",500,1000,1000,500))\n",
        "print(\"Rakesh\" in Element)\n",
        "print(\"rajkumar\" not in Element)"
      ],
      "metadata": {
        "colab": {
          "base_uri": "https://localhost:8080/"
        },
        "id": "mRTa_JWJYUal",
        "outputId": "5df92b00-f93a-4bf8-d21a-5b9abf2c943e"
      },
      "execution_count": null,
      "outputs": [
        {
          "output_type": "stream",
          "name": "stdout",
          "text": [
            "True\n",
            "False\n"
          ]
        }
      ]
    },
    {
      "cell_type": "markdown",
      "source": [
        "# Add set item"
      ],
      "metadata": {
        "id": "ynZxE90QZsQ3"
      }
    },
    {
      "cell_type": "code",
      "source": [
        "Element={\"Rakesh\",\"rajkumar\",\"sonu\",\"srihari\"}\n",
        "print(Element)\n",
        "Element.add(\"das\")\n",
        "print(Element)"
      ],
      "metadata": {
        "colab": {
          "base_uri": "https://localhost:8080/"
        },
        "id": "54udQ_cZY6Ak",
        "outputId": "22200f8e-2355-41f0-c194-0f12d2714fcc"
      },
      "execution_count": null,
      "outputs": [
        {
          "output_type": "stream",
          "name": "stdout",
          "text": [
            "{'Rakesh', 'srihari', 'sonu', 'rajkumar'}\n",
            "{'das', 'srihari', 'sonu', 'rajkumar', 'Rakesh'}\n"
          ]
        }
      ]
    },
    {
      "cell_type": "markdown",
      "source": [
        "two sets adding use .update"
      ],
      "metadata": {
        "id": "iJMkplkkazl6"
      }
    },
    {
      "cell_type": "code",
      "source": [
        "Element={\"Rakesh\",\"rajkumar\",\"sonu\",\"srihari\"}\n",
        "point={\"mango\",\"apple\",\"banana\"}\n",
        "Element.update(point)\n",
        "print(Element)"
      ],
      "metadata": {
        "colab": {
          "base_uri": "https://localhost:8080/"
        },
        "id": "oQgAkJk4aPDm",
        "outputId": "ca61c8cb-1245-45d4-9fa6-68214ae917a5"
      },
      "execution_count": null,
      "outputs": [
        {
          "output_type": "stream",
          "name": "stdout",
          "text": [
            "{'rajkumar', 'mango', 'banana', 'Rakesh', 'srihari', 'apple', 'sonu'}\n"
          ]
        }
      ]
    },
    {
      "cell_type": "markdown",
      "source": [
        "# Remove the set items from a set\n",
        "\n",
        "use the command is .remove() or discard()"
      ],
      "metadata": {
        "id": "leow9cdQbCQH"
      }
    },
    {
      "cell_type": "code",
      "source": [
        "Element={\"Rakesh\",\"rajkumar\",\"sonu\",\"srihari\"}\n",
        "Element.remove(\"rajkumar\")\n",
        "print(Element)"
      ],
      "metadata": {
        "colab": {
          "base_uri": "https://localhost:8080/"
        },
        "id": "QBjnGGJCbLSs",
        "outputId": "5cf7ba17-baba-4e6e-81b2-881b2186bfa7"
      },
      "execution_count": null,
      "outputs": [
        {
          "output_type": "stream",
          "name": "stdout",
          "text": [
            "{'Rakesh', 'srihari', 'sonu'}\n"
          ]
        }
      ]
    },
    {
      "cell_type": "code",
      "source": [
        "Element={\"Rakesh\",\"rajkumar\",\"sonu\",\"srihari\"}\n",
        "Element.discard(\"rajkumar\")\n",
        "print(Element)"
      ],
      "metadata": {
        "id": "Id6YmP4HbkhU"
      },
      "execution_count": null,
      "outputs": []
    },
    {
      "cell_type": "markdown",
      "source": [
        "# pop()\n",
        "\n",
        "==> its remove the any element in the set\n",
        "\n",
        "==> use command .pop()"
      ],
      "metadata": {
        "id": "2eJZZsv8b-ks"
      }
    },
    {
      "cell_type": "code",
      "source": [
        "Element={\"Rakesh\",\"rajkumar\",\"sonu\",\"srihari\"}\n",
        "a=Element.pop()\n",
        "print(a)\n",
        "print(Element)"
      ],
      "metadata": {
        "colab": {
          "base_uri": "https://localhost:8080/"
        },
        "id": "9uGPEKdwcN2d",
        "outputId": "e42e086e-485b-43d2-b8b9-ceaf02767003"
      },
      "execution_count": null,
      "outputs": [
        {
          "output_type": "stream",
          "name": "stdout",
          "text": [
            "Rakesh\n",
            "{'srihari', 'sonu', 'rajkumar'}\n"
          ]
        }
      ]
    },
    {
      "cell_type": "markdown",
      "source": [
        "# clear()\n",
        "\n",
        "its clear the all elements in a set\n"
      ],
      "metadata": {
        "id": "hefjQG9mcf0q"
      }
    },
    {
      "cell_type": "code",
      "source": [
        "Element={\"Rakesh\",\"rajkumar\",\"sonu\",\"srihari\"}\n",
        "Element.clear()\n",
        "print(Element)"
      ],
      "metadata": {
        "colab": {
          "base_uri": "https://localhost:8080/"
        },
        "id": "9nU88Y29cbJ7",
        "outputId": "c2dd93ec-c5c0-45cb-a489-a4923911b3d6"
      },
      "execution_count": null,
      "outputs": [
        {
          "output_type": "stream",
          "name": "stdout",
          "text": [
            "set()\n"
          ]
        }
      ]
    },
    {
      "cell_type": "markdown",
      "source": [
        "# loop items"
      ],
      "metadata": {
        "id": "bdEKTwQudrQS"
      }
    },
    {
      "cell_type": "code",
      "source": [
        "Element={\"Rakesh\",\"rajkumar\",\"sonu\",\"srihari\"}\n",
        "for value in Element:\n",
        "  print(value)"
      ],
      "metadata": {
        "colab": {
          "base_uri": "https://localhost:8080/"
        },
        "id": "vDRYyjAldttu",
        "outputId": "84ebcfc8-2d90-4e1c-cb15-25ae451c4bea"
      },
      "execution_count": null,
      "outputs": [
        {
          "output_type": "stream",
          "name": "stdout",
          "text": [
            "Rakesh\n",
            "srihari\n",
            "sonu\n",
            "rajkumar\n"
          ]
        }
      ]
    },
    {
      "cell_type": "markdown",
      "source": [
        "# **LIST**\n",
        "\n",
        "==> Here we using the square[ ]\n",
        "\n",
        "==> in python any data tpye is avaliable\n",
        "\n",
        "==> we can use the index in List\n",
        "\n",
        "==> we can use add the list (+)\n",
        "\n",
        "==> we can use the repetated items in a list is (*)\n",
        "\n",
        "==>\n",
        "\n"
      ],
      "metadata": {
        "id": "XXzJhcHUfC96"
      }
    },
    {
      "cell_type": "markdown",
      "source": [
        "## update list"
      ],
      "metadata": {
        "id": "QdCP9CRsiDPO"
      }
    },
    {
      "cell_type": "code",
      "source": [
        "list=['rakesh','2003']\n"
      ],
      "metadata": {
        "id": "kEnewg26d2Sy"
      },
      "execution_count": null,
      "outputs": []
    },
    {
      "cell_type": "markdown",
      "source": [
        "# delet command\n",
        "\n",
        "del"
      ],
      "metadata": {
        "id": "PAqgmytdiSK-"
      }
    },
    {
      "cell_type": "code",
      "source": [
        "list=['rakesh','2003']\n",
        "print(list)\n",
        "del list[1]\n",
        "print(list)"
      ],
      "metadata": {
        "colab": {
          "base_uri": "https://localhost:8080/"
        },
        "id": "kly8it-JiWo-",
        "outputId": "ee743bba-a5dd-42bc-f5be-adcf1b7aa20e"
      },
      "execution_count": null,
      "outputs": [
        {
          "output_type": "stream",
          "name": "stdout",
          "text": [
            "['rakesh', '2003']\n",
            "['rakesh']\n"
          ]
        }
      ]
    },
    {
      "cell_type": "markdown",
      "source": [
        "# Basic operation"
      ],
      "metadata": {
        "id": "fUPZ3gcOit-f"
      }
    },
    {
      "cell_type": "code",
      "source": [],
      "metadata": {
        "id": "vArahNT0jAEG"
      },
      "execution_count": null,
      "outputs": []
    },
    {
      "cell_type": "markdown",
      "source": [
        "# Built in function"
      ],
      "metadata": {
        "id": "dftZSil5jOep"
      }
    },
    {
      "cell_type": "code",
      "source": [
        "name=[\"Rakesh\",'manji','suvali']\n",
        "DOB=[2003,2004,2005]\n",
        "print(\"name with maximum character\",max(name))\n",
        "print(\"name with minimum character\",min(name))\n",
        "print(\"DOB with maximum character\",max(DOB))\n",
        "print(\"DOB with minimum character\",min(DOB))"
      ],
      "metadata": {
        "colab": {
          "base_uri": "https://localhost:8080/"
        },
        "id": "irUpUz_ujTCV",
        "outputId": "4667061c-0cb2-4773-e8eb-a9d45c2666a6"
      },
      "execution_count": null,
      "outputs": [
        {
          "output_type": "stream",
          "name": "stdout",
          "text": [
            "name with maximum character suvali\n",
            "name with minimum character Rakesh\n",
            "DOB with maximum character 2005\n",
            "DOB with minimum character 2003\n"
          ]
        }
      ]
    },
    {
      "cell_type": "markdown",
      "source": [
        "list methods\n",
        "\n",
        "using for add command is .append()"
      ],
      "metadata": {
        "id": "lF2a4wgXj5vn"
      }
    },
    {
      "cell_type": "code",
      "source": [
        "name=(\"Rakesh\",\"manji\")\n",
        "name.append(\"suvalli\")\n",
        "print(name)"
      ],
      "metadata": {
        "colab": {
          "base_uri": "https://localhost:8080/",
          "height": 176
        },
        "id": "pcSMLKaEkInZ",
        "outputId": "669f64f1-017d-4511-ebec-deeae6415572"
      },
      "execution_count": null,
      "outputs": [
        {
          "output_type": "error",
          "ename": "AttributeError",
          "evalue": "'tuple' object has no attribute 'append'",
          "traceback": [
            "\u001b[0;31m---------------------------------------------------------------------------\u001b[0m",
            "\u001b[0;31mAttributeError\u001b[0m                            Traceback (most recent call last)",
            "\u001b[0;32m<ipython-input-27-c05bc979884d>\u001b[0m in \u001b[0;36m<cell line: 2>\u001b[0;34m()\u001b[0m\n\u001b[1;32m      1\u001b[0m \u001b[0mname\u001b[0m\u001b[0;34m=\u001b[0m\u001b[0;34m(\u001b[0m\u001b[0;34m\"Rakesh\"\u001b[0m\u001b[0;34m,\u001b[0m\u001b[0;34m\"manji\"\u001b[0m\u001b[0;34m)\u001b[0m\u001b[0;34m\u001b[0m\u001b[0;34m\u001b[0m\u001b[0m\n\u001b[0;32m----> 2\u001b[0;31m \u001b[0mname\u001b[0m\u001b[0;34m.\u001b[0m\u001b[0mappend\u001b[0m\u001b[0;34m(\u001b[0m\u001b[0;34m\"suvalli\"\u001b[0m\u001b[0;34m)\u001b[0m\u001b[0;34m\u001b[0m\u001b[0;34m\u001b[0m\u001b[0m\n\u001b[0m\u001b[1;32m      3\u001b[0m \u001b[0mprint\u001b[0m\u001b[0;34m(\u001b[0m\u001b[0mname\u001b[0m\u001b[0;34m)\u001b[0m\u001b[0;34m\u001b[0m\u001b[0;34m\u001b[0m\u001b[0m\n",
            "\u001b[0;31mAttributeError\u001b[0m: 'tuple' object has no attribute 'append'"
          ]
        }
      ]
    },
    {
      "cell_type": "markdown",
      "source": [
        "list count\n",
        "\n",
        "comand is .count"
      ],
      "metadata": {
        "id": "JFSCPEuUkdFr"
      }
    },
    {
      "cell_type": "code",
      "source": [
        "grade=['a','b','c','d']\n",
        "print(grade.count('a'))"
      ],
      "metadata": {
        "id": "TIsf4Nf2kjVb"
      },
      "execution_count": null,
      "outputs": []
    },
    {
      "cell_type": "markdown",
      "source": [
        "index\n",
        "\n",
        "comand is .index"
      ],
      "metadata": {
        "id": "qUVh2qdekth7"
      }
    },
    {
      "cell_type": "code",
      "source": [],
      "metadata": {
        "id": "sybSa3fKkiNn"
      },
      "execution_count": null,
      "outputs": []
    },
    {
      "cell_type": "markdown",
      "source": [
        "inset\n",
        "\n",
        "to add the list\n",
        "\n",
        "command is .insert"
      ],
      "metadata": {
        "id": "8zncw1m0lGVg"
      }
    },
    {
      "cell_type": "code",
      "source": [
        "name=['rakesh','suvalli']\n",
        "print(\"member: \",name)\n",
        "name.insert(1,\"manji\")\n",
        "print(\"member: \",name)"
      ],
      "metadata": {
        "colab": {
          "base_uri": "https://localhost:8080/"
        },
        "id": "uQWi6Z12lWco",
        "outputId": "e6aa78a4-48e2-434d-dd31-750f919f4a6a"
      },
      "execution_count": null,
      "outputs": [
        {
          "output_type": "stream",
          "name": "stdout",
          "text": [
            "member:  ['rakesh', 'suvalli']\n",
            "member:  ['rakesh', 'manji', 'suvalli']\n"
          ]
        }
      ]
    },
    {
      "cell_type": "markdown",
      "source": [
        "pop()\n",
        "\n",
        "pop() its remove the top most element\n",
        "\n",
        "pop(2) its remove the top 2 will remove"
      ],
      "metadata": {
        "id": "LCUthV9il8HB"
      }
    },
    {
      "cell_type": "code",
      "source": [
        "name=['rakesh','suvalli',\"manji\"]\n",
        "print(\"member: \",name)\n",
        "name.pop()\n",
        "print(\"member: \",name)\n",
        "name.pop(1)\n",
        "print(\"member: \",name)\n"
      ],
      "metadata": {
        "colab": {
          "base_uri": "https://localhost:8080/"
        },
        "id": "p770lYgjmevl",
        "outputId": "5b4ea988-9a44-49d6-fef1-024fc35971d0"
      },
      "execution_count": null,
      "outputs": [
        {
          "output_type": "stream",
          "name": "stdout",
          "text": [
            "member:  ['rakesh', 'suvalli', 'manji']\n",
            "member:  ['rakesh', 'suvalli']\n",
            "member:  ['rakesh']\n"
          ]
        }
      ]
    },
    {
      "cell_type": "markdown",
      "source": [
        "# ***date: 26-09-24***\n",
        "\n",
        "==> Remove command is .remove(element)\n",
        "\n"
      ],
      "metadata": {
        "id": "Mi2Ka3bzebbL"
      }
    },
    {
      "cell_type": "code",
      "source": [
        "name=['rakesh','suvalli',\"manji\"]\n",
        "print(\"member: \",name)\n",
        "name.remove(\"manji\")\n",
        "print(\"member: \",name)\n"
      ],
      "metadata": {
        "colab": {
          "base_uri": "https://localhost:8080/"
        },
        "id": "H_J9IUU_ewO4",
        "outputId": "f7e043ac-71f2-467f-93a8-45f40745ba33"
      },
      "execution_count": null,
      "outputs": [
        {
          "output_type": "stream",
          "name": "stdout",
          "text": [
            "member:  ['rakesh', 'suvalli', 'manji']\n",
            "member:  ['rakesh', 'suvalli']\n"
          ]
        }
      ]
    },
    {
      "cell_type": "markdown",
      "source": [
        "reverse command is .reverse\n"
      ],
      "metadata": {
        "id": "C7IgOX_kfESe"
      }
    },
    {
      "cell_type": "code",
      "source": [
        "name=['rakesh','suvalli',\"manji\"]\n",
        "print(\"member: \",name)\n",
        "name.reverse()\n",
        "print(\"member: \",name)\n"
      ],
      "metadata": {
        "colab": {
          "base_uri": "https://localhost:8080/"
        },
        "id": "oTtdcGeifFJo",
        "outputId": "c1939b81-ccd2-4bc1-ec3e-1cc0918d97c4"
      },
      "execution_count": null,
      "outputs": [
        {
          "output_type": "stream",
          "name": "stdout",
          "text": [
            "member:  ['rakesh', 'suvalli', 'manji']\n",
            "member:  ['manji', 'suvalli', 'rakesh']\n"
          ]
        }
      ]
    },
    {
      "cell_type": "markdown",
      "source": [
        "sort command is .sort"
      ],
      "metadata": {
        "id": "jCPuUcwcfLae"
      }
    },
    {
      "cell_type": "code",
      "source": [
        "name=['rakesh','suvalli',\"manji\"]\n",
        "print(\"member: \",name)\n",
        "name.sort()\n",
        "print(\"member: \",name)\n"
      ],
      "metadata": {
        "colab": {
          "base_uri": "https://localhost:8080/"
        },
        "id": "SW7fF-Y3fLz1",
        "outputId": "240d76b0-27ac-490a-8ee5-00f903506ab7"
      },
      "execution_count": null,
      "outputs": [
        {
          "output_type": "stream",
          "name": "stdout",
          "text": [
            "member:  ['rakesh', 'suvalli', 'manji']\n",
            "member:  ['manji', 'rakesh', 'suvalli']\n"
          ]
        }
      ]
    },
    {
      "cell_type": "markdown",
      "source": [
        "# **Tuples**\n",
        "\n",
        "==> it is a collections of elements it any type of data type\n",
        "\n",
        "==> it representation in  normal ()\n",
        "\n",
        "==> in it elements can not be updated\n",
        "\n",
        "==> its only read data\n",
        "\n",
        "==> in it access the index present in the list only"
      ],
      "metadata": {
        "id": "Ms9LIjxBf319"
      }
    },
    {
      "cell_type": "code",
      "source": [
        "tuple=(\"rakesh\",\"vikram\",\"ajay\",\"ambadas\")\n",
        "print(tuple)\n",
        "print(tuple[0])\n",
        "print(tuple[0:2])\n",
        "print(tuple[0:])\n",
        "print(tuple[::-1])\n",
        "print(tuple[2:0:-1])"
      ],
      "metadata": {
        "colab": {
          "base_uri": "https://localhost:8080/"
        },
        "id": "PQn3AeFYf7Hm",
        "outputId": "585b7624-73d7-4a60-e8bb-7b7134e55c19"
      },
      "execution_count": null,
      "outputs": [
        {
          "output_type": "stream",
          "name": "stdout",
          "text": [
            "('rakesh', 'vikram', 'ajay', 'ambadas')\n",
            "rakesh\n",
            "('rakesh', 'vikram')\n",
            "('rakesh', 'vikram', 'ajay', 'ambadas')\n",
            "('ambadas', 'ajay', 'vikram', 'rakesh')\n",
            "('ajay', 'vikram')\n"
          ]
        }
      ]
    },
    {
      "cell_type": "code",
      "source": [
        "tuple=(\"rakesh\",\"vikram\",\"ajay\",\"ambadas\")\n",
        "tg=(200,2004,2002)\n",
        "print(tuple*2)\n",
        "print(tuple+tg)\n",
        "list=[\"pavan\",\"phanindra\",\"rahul\"]\n",
        "print(list)\n",
        "list[0]=\"rajkumar\"\n",
        "print(list)\n"
      ],
      "metadata": {
        "colab": {
          "base_uri": "https://localhost:8080/"
        },
        "id": "XB46zjJjiI1g",
        "outputId": "ce6e41ce-09ac-43a7-ace1-7a6a8438b57d"
      },
      "execution_count": null,
      "outputs": [
        {
          "output_type": "stream",
          "name": "stdout",
          "text": [
            "('rakesh', 'vikram', 'ajay', 'ambadas', 'rakesh', 'vikram', 'ajay', 'ambadas')\n",
            "('rakesh', 'vikram', 'ajay', 'ambadas', 200, 2004, 2002)\n",
            "['pavan', 'phanindra', 'rahul']\n",
            "['rajkumar', 'phanindra', 'rahul']\n"
          ]
        }
      ]
    },
    {
      "cell_type": "markdown",
      "source": [
        "# **Dictionary**\n",
        "\n",
        "==> it is in {} or ()\n",
        "\n",
        "==> it is no index present\n",
        "\n",
        "==> in this values should be taken as 'key'\n",
        "\n"
      ],
      "metadata": {
        "id": "g2r-4VmKkNOJ"
      }
    },
    {
      "cell_type": "code",
      "source": [
        "dict={}\n",
        "print(dict)\n",
        "dict[\"one\"]=\"my opinon is my own\"\n",
        "print(dict)\n",
        "dict[\"2\"]=\"my self\"\n",
        "print(dict)\n",
        "print(dict.keys())\n",
        "print(dict.values())"
      ],
      "metadata": {
        "colab": {
          "base_uri": "https://localhost:8080/"
        },
        "id": "rzusBjLFkrt8",
        "outputId": "f26ef5b0-3225-40c7-ff89-f7f23eb7c0bb"
      },
      "execution_count": null,
      "outputs": [
        {
          "output_type": "stream",
          "name": "stdout",
          "text": [
            "{}\n",
            "{'one': 'my opinon is my own'}\n",
            "{'one': 'my opinon is my own', '2': 'my self'}\n",
            "dict_keys(['one', '2'])\n",
            "dict_values(['my opinon is my own', 'my self'])\n"
          ]
        }
      ]
    },
    {
      "cell_type": "code",
      "source": [
        "base={\"name\":\"rakesh\",\"marks\":848}\n",
        "print(base)\n",
        "print(base[\"name\"])\n",
        "print(base[\"marks\"])\n",
        "base[\"marks\"]=900\n",
        "print(base)\n",
        "base[\"name\"]=\"sonu\"\n",
        "print(base)\n",
        "print(base.keys())\n",
        "print(base.values())"
      ],
      "metadata": {
        "colab": {
          "base_uri": "https://localhost:8080/"
        },
        "id": "z2fpQ1wmlrtz",
        "outputId": "7ef12d9e-dc27-4b66-a43f-30843bda31a2"
      },
      "execution_count": null,
      "outputs": [
        {
          "output_type": "stream",
          "name": "stdout",
          "text": [
            "{'name': 'rakesh', 'marks': 848}\n",
            "rakesh\n",
            "848\n",
            "{'name': 'rakesh', 'marks': 900}\n",
            "{'name': 'sonu', 'marks': 900}\n",
            "dict_keys(['name', 'marks'])\n",
            "dict_values(['sonu', 900])\n"
          ]
        }
      ]
    },
    {
      "cell_type": "code",
      "source": [],
      "metadata": {
        "id": "CSVF__zrnM_P"
      },
      "execution_count": null,
      "outputs": []
    }
  ]
}